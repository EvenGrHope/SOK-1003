{
 "cells": [
  {
   "cell_type": "markdown",
   "id": "c25eec87-f9f9-4671-81e3-0335c698cd41",
   "metadata": {},
   "source": [
    "## SOK-1003 Sympy Arbeidskrav\n",
    "Dette arbeidskravet er løst av Even Grønbech-Hope."
   ]
  },
  {
   "cell_type": "code",
   "execution_count": 136,
   "id": "05c711a0-675e-4f96-b87b-0d762105295d",
   "metadata": {},
   "outputs": [],
   "source": [
    "import sympy as sp\n",
    "from sympy.solvers import solve"
   ]
  },
  {
   "cell_type": "markdown",
   "id": "b1b4f5a1-52eb-42f1-9b19-2d8f652257a1",
   "metadata": {},
   "source": [
    "### Oppgave 15"
   ]
  },
  {
   "cell_type": "code",
   "execution_count": 134,
   "id": "dd27143d-bcda-4102-afd6-12843b6c16bb",
   "metadata": {},
   "outputs": [],
   "source": [
    "# Gjennom hele oppgaven jobber vi med to ukjente\n",
    "x, y = sp.symbols(\"x y\")"
   ]
  },
  {
   "cell_type": "code",
   "execution_count": 135,
   "id": "8d0ef04a-27c4-408d-a7b7-5ecfd6604cd3",
   "metadata": {},
   "outputs": [
    {
     "data": {
      "text/plain": [
       "{x: -1, y: 2}"
      ]
     },
     "execution_count": 135,
     "metadata": {},
     "output_type": "execute_result"
    }
   ],
   "source": [
    "# Oppgave 1a)\n",
    "\n",
    "# Definerer hver likning hver for seg.\n",
    "eq1=sp.Eq(2*x+4*y,6)\n",
    "eq2=sp.Eq(-2*x+y,4)\n",
    "\n",
    "# Løser begge likningene med hensyn til de ukjente.\n",
    "svar = solve([eq1,eq2],[x,y])\n",
    "svar"
   ]
  },
  {
   "cell_type": "code",
   "execution_count": 137,
   "id": "018ae1bc-fb94-438e-a1d9-5c33817d0b6d",
   "metadata": {},
   "outputs": [
    {
     "data": {
      "text/plain": [
       "[(-1, -1), (2, 5)]"
      ]
     },
     "execution_count": 137,
     "metadata": {},
     "output_type": "execute_result"
    }
   ],
   "source": [
    "# Oppgave 1b)\n",
    "\n",
    "# Legger inn begge likningen.\n",
    "eq1=sp.Eq(2*x-y,-1)\n",
    "eq2=sp.Eq(x**2+x-y,1)\n",
    "\n",
    "# Løser begge likningene med hensyn til de ukjente.\n",
    "svar = solve([eq1,eq2],[x,y])\n",
    "svar"
   ]
  },
  {
   "cell_type": "code",
   "execution_count": 138,
   "id": "40b565b3-7828-4804-9302-5e8af7e21ef2",
   "metadata": {},
   "outputs": [
    {
     "data": {
      "text/plain": [
       "{x: 4, y: 0}"
      ]
     },
     "execution_count": 138,
     "metadata": {},
     "output_type": "execute_result"
    }
   ],
   "source": [
    "# Oppgave 2a)\n",
    "\n",
    "# Legger inn begge likningene.\n",
    "eq1=sp.Eq(3*x-12,-6*y)\n",
    "eq2=sp.Eq(4*x-8*y,16)\n",
    "\n",
    "# Løser begge likningene med hensyn til de ukjente.\n",
    "svar = solve([eq1,eq2],[x,y])\n",
    "svar"
   ]
  },
  {
   "cell_type": "code",
   "execution_count": 139,
   "id": "bc1a7610-1415-4487-ab52-fc96ec3b040b",
   "metadata": {},
   "outputs": [
    {
     "data": {
      "text/plain": [
       "[(-15/2, 31/4), (2, 3)]"
      ]
     },
     "execution_count": 139,
     "metadata": {},
     "output_type": "execute_result"
    }
   ],
   "source": [
    "# Oppgave 2b)\n",
    "\n",
    "# Legger inn begge likningene.\n",
    "eq1=sp.Eq(x**2+4*x-3,3*y)\n",
    "eq2=sp.Eq(2*y,8-x)\n",
    "\n",
    "# Løser begge likningene med hensyn til de ukjente.\n",
    "svar = solve([eq1,eq2],[x,y])\n",
    "svar"
   ]
  },
  {
   "cell_type": "markdown",
   "id": "bbc8e157-2554-4132-8dba-53d56ab44b6b",
   "metadata": {},
   "source": [
    "### Oppgave 16"
   ]
  },
  {
   "cell_type": "code",
   "execution_count": 140,
   "id": "0ea173e5-7a8f-4237-8c67-168ee7cc35fa",
   "metadata": {},
   "outputs": [],
   "source": [
    "# Gjennom hele oppgaven jobber vi med to ukjente\n",
    "x, y = sp.symbols(\"x y\")"
   ]
  },
  {
   "cell_type": "code",
   "execution_count": 141,
   "id": "3d2a2aad-1e55-4abe-a474-6973d8a2af99",
   "metadata": {},
   "outputs": [
    {
     "data": {
      "text/plain": [
       "{x: 2, y: 2}"
      ]
     },
     "execution_count": 141,
     "metadata": {},
     "output_type": "execute_result"
    }
   ],
   "source": [
    "# Oppgave 1a)\n",
    "\n",
    "# Definerer hver likning hver for seg.\n",
    "eq1=sp.Eq(4*x+2*y,12)\n",
    "eq2=sp.Eq(6*x-2*y,8)\n",
    "\n",
    "# Løser begge likningene med hensyn til de ukjente.\n",
    "svar = solve([eq1,eq2],[x,y])\n",
    "svar"
   ]
  },
  {
   "cell_type": "code",
   "execution_count": 142,
   "id": "fcc08e3a-fab1-495e-8eb5-f8e78adec8fa",
   "metadata": {},
   "outputs": [
    {
     "data": {
      "text/plain": [
       "[(0, -5), (12, 1)]"
      ]
     },
     "execution_count": 142,
     "metadata": {},
     "output_type": "execute_result"
    }
   ],
   "source": [
    "# Oppgave 1b)\n",
    "\n",
    "# Legger inn begge likningene.\n",
    "eq1=sp.Eq(2*x+y**2,25)\n",
    "eq2=sp.Eq(x-2*y,10)\n",
    "\n",
    "# Løser begge likningene med hensyn til de ukjente.\n",
    "svar = solve([eq1,eq2],[x,y])\n",
    "svar"
   ]
  },
  {
   "cell_type": "code",
   "execution_count": 143,
   "id": "f31b9225-d088-4b8f-bc47-53428a3987ed",
   "metadata": {},
   "outputs": [
    {
     "data": {
      "text/plain": [
       "{x: 4, y: 2}"
      ]
     },
     "execution_count": 143,
     "metadata": {},
     "output_type": "execute_result"
    }
   ],
   "source": [
    "# Oppgave 2a)\n",
    "\n",
    "# Legger inn begge likningene.\n",
    "eq1=sp.Eq(4*x-4*y,8)\n",
    "eq2=sp.Eq(9*x-5*y,26)\n",
    "\n",
    "# Løser begge likningene med hensyn til de ukjente.\n",
    "svar = solve([eq1,eq2],[x,y])\n",
    "svar"
   ]
  },
  {
   "cell_type": "code",
   "execution_count": 144,
   "id": "1e9cd30c-59b0-4b5b-9836-5e884dec876a",
   "metadata": {},
   "outputs": [
    {
     "data": {
      "text/plain": [
       "[(-9, -2*sqrt(3)), (-9, 2*sqrt(3)), (7, -2), (7, 2)]"
      ]
     },
     "execution_count": 144,
     "metadata": {},
     "output_type": "execute_result"
    }
   ],
   "source": [
    "# Oppgave 2b)\n",
    "\n",
    "# Legger inn begge likningene.\n",
    "eq1=sp.Eq(x+2*y**2,15)\n",
    "eq2=sp.Eq(x**2-4*y**2,33)\n",
    "\n",
    "# Løser begge likningene med hensyn til de ukjente.\n",
    "svar = solve([eq1,eq2],[x,y])\n",
    "svar"
   ]
  },
  {
   "cell_type": "markdown",
   "id": "de4a9268-1be2-4bda-9af4-44e90610f475",
   "metadata": {},
   "source": [
    "### Oppgave 17"
   ]
  },
  {
   "cell_type": "code",
   "execution_count": 145,
   "id": "c9a2efcf-0b12-4369-82bf-92a8df84152c",
   "metadata": {},
   "outputs": [],
   "source": [
    "# Gjennom hele oppgaven jobber vi med to ukjente\n",
    "x, y = sp.symbols(\"x y\")"
   ]
  },
  {
   "cell_type": "code",
   "execution_count": 146,
   "id": "b77f1b50-4d9a-405d-b5a8-31f02835e46a",
   "metadata": {},
   "outputs": [
    {
     "data": {
      "text/plain": [
       "[(0, -4), (0, 4), (15, -1), (15, 1)]"
      ]
     },
     "execution_count": 146,
     "metadata": {},
     "output_type": "execute_result"
    }
   ],
   "source": [
    "# Oppgave 1a)\n",
    "\n",
    "# Definerer hver likning hver for seg.\n",
    "eq1=sp.Eq(x*y**2-x,0)\n",
    "eq2=sp.Eq(x+y**2,16)\n",
    "\n",
    "# Løser begge likningene med hensyn til de ukjente.\n",
    "svar = solve([eq1,eq2],[x,y])\n",
    "svar"
   ]
  },
  {
   "cell_type": "code",
   "execution_count": 147,
   "id": "4aa0a2c5-f6e6-4248-850a-050dae3e5e18",
   "metadata": {},
   "outputs": [
    {
     "data": {
      "text/plain": [
       "[(-10, 0), (-6, -8), (-6, 8), (6, -8), (6, 8), (10, 0)]"
      ]
     },
     "execution_count": 147,
     "metadata": {},
     "output_type": "execute_result"
    }
   ],
   "source": [
    "# Oppgave 1b)\n",
    "\n",
    "# Definerer hver likning hver for seg.\n",
    "eq1=sp.Eq(x**2+y**2,100)\n",
    "eq2=sp.Eq(x**2*y-36*y,0)\n",
    "\n",
    "# Løser begge likningene med hensyn til de ukjente.\n",
    "svar = solve([eq1,eq2],[x,y])\n",
    "svar"
   ]
  },
  {
   "cell_type": "code",
   "execution_count": 148,
   "id": "67f1a2a5-13e9-4dbd-bea2-07659531077c",
   "metadata": {},
   "outputs": [
    {
     "data": {
      "text/plain": [
       "[(-3, -7), (-3, 7), (0, -sqrt(58)), (0, sqrt(58)), (3, -7), (3, 7)]"
      ]
     },
     "execution_count": 148,
     "metadata": {},
     "output_type": "execute_result"
    }
   ],
   "source": [
    "# Oppgave 2a)\n",
    "\n",
    "# Definerer hver likning hver for seg.\n",
    "eq1=sp.Eq(x*y**2-49*x,0)\n",
    "eq2=sp.Eq(x**2+y**2,58)\n",
    "\n",
    "# Løser begge likningene med hensyn til de ukjente.\n",
    "svar = solve([eq1,eq2],[x,y])\n",
    "svar"
   ]
  },
  {
   "cell_type": "code",
   "execution_count": 149,
   "id": "1ada43c6-b5bd-45a3-81de-f1aade7bb427",
   "metadata": {},
   "outputs": [
    {
     "data": {
      "text/plain": [
       "[(-1.11803398874989, 0.0),\n",
       " (-0.500000000000000, -1.00000000000000),\n",
       " (-0.500000000000000, 1.00000000000000),\n",
       " (1.11803398874989, 0.0)]"
      ]
     },
     "execution_count": 149,
     "metadata": {},
     "output_type": "execute_result"
    }
   ],
   "source": [
    "# Oppgave 2b)\n",
    "\n",
    "# Definerer hver likning hver for seg.\n",
    "eq1=sp.Eq(x**2+y**2,1.25)\n",
    "eq2=sp.Eq(2*x*y+y,0)\n",
    "\n",
    "# Løser begge likningene med hensyn til de ukjente.\n",
    "svar = solve([eq1,eq2],[x,y])\n",
    "svar"
   ]
  },
  {
   "cell_type": "markdown",
   "id": "e58bc428-b027-4a06-abf9-3db611fa4064",
   "metadata": {},
   "source": [
    "### Oppgave 19"
   ]
  },
  {
   "cell_type": "code",
   "execution_count": 150,
   "id": "ed4f19cd-3b43-40c4-9a00-e3166820cb02",
   "metadata": {},
   "outputs": [
    {
     "data": {
      "text/latex": [
       "$\\displaystyle 5 x^{4}$"
      ],
      "text/plain": [
       "5*x**4"
      ]
     },
     "execution_count": 150,
     "metadata": {},
     "output_type": "execute_result"
    }
   ],
   "source": [
    "# Oppgave 1a)\n",
    "\n",
    "# Definerer funksjonen.\n",
    "def a19(x):\n",
    "    return x**5\n",
    "\n",
    "# Derividerer med hensyn til x.\n",
    "svar = sp.diff(a1(x),x)\n",
    "svar"
   ]
  },
  {
   "cell_type": "code",
   "execution_count": 151,
   "id": "79b05730-7f3c-4b0c-826c-80db218cc805",
   "metadata": {},
   "outputs": [
    {
     "data": {
      "text/latex": [
       "$\\displaystyle 1$"
      ],
      "text/plain": [
       "1"
      ]
     },
     "execution_count": 151,
     "metadata": {},
     "output_type": "execute_result"
    }
   ],
   "source": [
    "# Oppgave 1b)\n",
    "\n",
    "# Definerer funksjonen.\n",
    "def b1(x):\n",
    "    return x+12\n",
    "\n",
    "# Derividerer med hensyn til x.\n",
    "svar = sp.diff(b1(x),x)\n",
    "svar"
   ]
  },
  {
   "cell_type": "code",
   "execution_count": 152,
   "id": "7624146e-29a4-4106-856d-d51c0e2c7691",
   "metadata": {},
   "outputs": [
    {
     "data": {
      "text/latex": [
       "$\\displaystyle 3 x^{2} + 8 x$"
      ],
      "text/plain": [
       "3*x**2 + 8*x"
      ]
     },
     "execution_count": 152,
     "metadata": {},
     "output_type": "execute_result"
    }
   ],
   "source": [
    "# Oppgave 1c)\n",
    "\n",
    "# Definerer funksjonen.\n",
    "def c1(x):\n",
    "    return x**3+4*x**2\n",
    "\n",
    "# Derividerer med hensyn til x.\n",
    "svar = sp.diff(c1(x),x)\n",
    "svar"
   ]
  },
  {
   "cell_type": "code",
   "execution_count": 153,
   "id": "3fa3aa1a-0849-4234-8c6c-fa50dfe48dd6",
   "metadata": {},
   "outputs": [
    {
     "data": {
      "text/latex": [
       "$\\displaystyle 6 x^{2}$"
      ],
      "text/plain": [
       "6*x**2"
      ]
     },
     "execution_count": 153,
     "metadata": {},
     "output_type": "execute_result"
    }
   ],
   "source": [
    "# Oppgave 1d)\n",
    "\n",
    "# Definerer funksjonen.\n",
    "def d1(x):\n",
    "    return 2*x**3 + sp.sqrt(36)\n",
    "\n",
    "# Derividerer med hensyn til x.\n",
    "svar = sp.diff(d1(x),x)\n",
    "svar"
   ]
  },
  {
   "cell_type": "code",
   "execution_count": 34,
   "id": "f0b95fc1-6f4e-43f8-8d81-1ca535c47924",
   "metadata": {},
   "outputs": [
    {
     "data": {
      "text/latex": [
       "$\\displaystyle \\frac{1}{2 \\sqrt{x}}$"
      ],
      "text/plain": [
       "1/(2*sqrt(x))"
      ]
     },
     "execution_count": 34,
     "metadata": {},
     "output_type": "execute_result"
    }
   ],
   "source": [
    "# Oppgave 1e)\n",
    "\n",
    "# Definerer funksjonen.\n",
    "def e1(x):\n",
    "    return sp.sqrt(x) + 5**2\n",
    "\n",
    "# Derividerer med hensyn til x.\n",
    "svar = sp.diff(e1(x),x)\n",
    "svar"
   ]
  },
  {
   "cell_type": "code",
   "execution_count": 37,
   "id": "ffd52132-f72a-4ace-8c14-67d361ef2f30",
   "metadata": {},
   "outputs": [
    {
     "data": {
      "text/latex": [
       "$\\displaystyle 3 x^{2} - \\frac{1}{x^{2}}$"
      ],
      "text/plain": [
       "3*x**2 - 1/x**2"
      ]
     },
     "execution_count": 37,
     "metadata": {},
     "output_type": "execute_result"
    }
   ],
   "source": [
    "# Oppgave 1f)\n",
    "\n",
    "# Definerer funksjonen.\n",
    "def f1(x):\n",
    "    return x**3 + (1/x)\n",
    "\n",
    "# Derividerer med hensyn til x.\n",
    "svar = sp.diff(f1(x),x)\n",
    "svar"
   ]
  },
  {
   "cell_type": "code",
   "execution_count": 38,
   "id": "f5e315e1-f4e6-4db4-bea0-a2b085163889",
   "metadata": {},
   "outputs": [
    {
     "data": {
      "text/latex": [
       "$\\displaystyle 3 x^{2} - 2 x + 0.25$"
      ],
      "text/plain": [
       "3*x**2 - 2*x + 0.25"
      ]
     },
     "execution_count": 38,
     "metadata": {},
     "output_type": "execute_result"
    }
   ],
   "source": [
    "# Oppgave 1g)\n",
    "\n",
    "# Definerer funksjonen.\n",
    "def g1(x):\n",
    "    return x**3-x**2+(1/4)*x\n",
    "\n",
    "# Derividerer med hensyn til x.\n",
    "svar = sp.diff(g1(x),x)\n",
    "svar"
   ]
  },
  {
   "cell_type": "code",
   "execution_count": 39,
   "id": "cece2cb0-ce5e-40cd-a67d-ffa5a9a0e3d6",
   "metadata": {},
   "outputs": [
    {
     "data": {
      "text/latex": [
       "$\\displaystyle 36 x^{5} - \\frac{1}{x^{2}}$"
      ],
      "text/plain": [
       "36*x**5 - 1/x**2"
      ]
     },
     "execution_count": 39,
     "metadata": {},
     "output_type": "execute_result"
    }
   ],
   "source": [
    "# Oppgave 2a)\n",
    "\n",
    "# Definerer funksjonen.\n",
    "def a2(x):\n",
    "    return (1/x)+6*x**6\n",
    "\n",
    "# Derividerer med hensyn til x.\n",
    "svar = sp.diff(a2(x),x)\n",
    "svar"
   ]
  },
  {
   "cell_type": "code",
   "execution_count": 40,
   "id": "f5df2e77-3c7f-4ece-9559-5e5ae5d85650",
   "metadata": {},
   "outputs": [
    {
     "data": {
      "text/latex": [
       "$\\displaystyle 1.5 x^{2} - 1$"
      ],
      "text/plain": [
       "1.5*x**2 - 1"
      ]
     },
     "execution_count": 40,
     "metadata": {},
     "output_type": "execute_result"
    }
   ],
   "source": [
    "# Oppgave 2b)\n",
    "\n",
    "# Definerer funksjonen.\n",
    "def b2(x):\n",
    "    return -x+(1/2)*x**3\n",
    "\n",
    "# Derividerer med hensyn til x.\n",
    "svar = sp.diff(b2(x),x)\n",
    "svar"
   ]
  },
  {
   "cell_type": "code",
   "execution_count": 42,
   "id": "da0b68a9-1306-4ebb-8504-0ba2440e52be",
   "metadata": {},
   "outputs": [
    {
     "data": {
      "text/latex": [
       "$\\displaystyle 3 x^{2} + 4 x - 3$"
      ],
      "text/plain": [
       "3*x**2 + 4*x - 3"
      ]
     },
     "execution_count": 42,
     "metadata": {},
     "output_type": "execute_result"
    }
   ],
   "source": [
    "# Oppgave 2c)\n",
    "\n",
    "# Definerer funksjonen.\n",
    "def c2(x):\n",
    "    return ((x*x**2)+(x*2*x)-3*x)\n",
    "\n",
    "# Derividerer med hensyn til x.\n",
    "svar = sp.diff(c2(x),x)\n",
    "svar"
   ]
  },
  {
   "cell_type": "markdown",
   "id": "cd286865-cbec-4b04-95c1-fd16f0e011c8",
   "metadata": {},
   "source": [
    "### Oppgave 20"
   ]
  },
  {
   "cell_type": "code",
   "execution_count": 71,
   "id": "901566b1-a4fe-4132-8219-dbf5c75b63de",
   "metadata": {},
   "outputs": [
    {
     "data": {
      "text/latex": [
       "$\\displaystyle 9 x^{8}$"
      ],
      "text/plain": [
       "9*x**8"
      ]
     },
     "execution_count": 71,
     "metadata": {},
     "output_type": "execute_result"
    }
   ],
   "source": [
    "# Oppgave 1e)\n",
    "\n",
    "# Definerer funksjonen.\n",
    "def e20(x):\n",
    "    return x**4*x**5\n",
    "\n",
    "# Derividerer med hensyn til x.\n",
    "svar = sp.diff(e20(x),x)\n",
    "\n",
    "# Lager ett penere utrykk med bruk av \"simplify\".\n",
    "sp.simplify(svar)"
   ]
  },
  {
   "cell_type": "code",
   "execution_count": 72,
   "id": "c7610f33-6b18-4fae-b579-a6e9c91b8ca4",
   "metadata": {},
   "outputs": [
    {
     "data": {
      "text/latex": [
       "$\\displaystyle \\frac{3 \\sqrt{x}}{2}$"
      ],
      "text/plain": [
       "3*sqrt(x)/2"
      ]
     },
     "execution_count": 72,
     "metadata": {},
     "output_type": "execute_result"
    }
   ],
   "source": [
    "# Oppgave 1f)\n",
    "\n",
    "# Definerer funksjonen.\n",
    "def f20(x):\n",
    "    return x*sp.sqrt(x)\n",
    "\n",
    "# Derividerer med hensyn til x.\n",
    "svar = sp.diff(f20(x),x)\n",
    "\n",
    "# Lager ett penere utrykk med bruk av \"simplify\".\n",
    "sp.simplify(svar)"
   ]
  },
  {
   "cell_type": "code",
   "execution_count": 73,
   "id": "f99fa7f9-6dc2-4841-9587-62bec5b4b5e6",
   "metadata": {},
   "outputs": [
    {
     "data": {
      "text/latex": [
       "$\\displaystyle - \\frac{6}{x^{4}}$"
      ],
      "text/plain": [
       "-6/x**4"
      ]
     },
     "execution_count": 73,
     "metadata": {},
     "output_type": "execute_result"
    }
   ],
   "source": [
    "# Oppgave 1g)\n",
    "\n",
    "# Definerer funksjonen.\n",
    "def g20(x):\n",
    "    return 2/x**3\n",
    "\n",
    "# Derividerer med hensyn til x.\n",
    "svar = sp.diff(g20(x),x)\n",
    "\n",
    "# Lager ett penere utrykk med bruk av \"simplify\".\n",
    "sp.simplify(svar)"
   ]
  },
  {
   "cell_type": "code",
   "execution_count": 74,
   "id": "b99844c2-1235-4463-9f2b-201ee9ba9925",
   "metadata": {},
   "outputs": [
    {
     "data": {
      "text/latex": [
       "$\\displaystyle \\frac{6 - x^{2}}{x^{4}}$"
      ],
      "text/plain": [
       "(6 - x**2)/x**4"
      ]
     },
     "execution_count": 74,
     "metadata": {},
     "output_type": "execute_result"
    }
   ],
   "source": [
    "# Oppgave 1h)\n",
    "\n",
    "# Definerer funksjonen.\n",
    "def h20(x):\n",
    "    return (x**2-2)/(x**3)\n",
    "\n",
    "# Derividerer med hensyn til x.\n",
    "svar = sp.diff(h20(x),x)\n",
    "\n",
    "# Lager ett penere utrykk med bruk av \"simplify\".\n",
    "sp.simplify(svar)"
   ]
  },
  {
   "cell_type": "code",
   "execution_count": 75,
   "id": "98709b95-a5c7-414f-8d92-1c7a4228fbbd",
   "metadata": {},
   "outputs": [
    {
     "data": {
      "text/latex": [
       "$\\displaystyle \\frac{13 x^{\\frac{11}{2}}}{2}$"
      ],
      "text/plain": [
       "13*x**(11/2)/2"
      ]
     },
     "execution_count": 75,
     "metadata": {},
     "output_type": "execute_result"
    }
   ],
   "source": [
    "# Oppgave 1i)\n",
    "\n",
    "# Definerer funksjonen.\n",
    "def i20(x):\n",
    "    return sp.sqrt(x)*x**6\n",
    "\n",
    "# Derividerer med hensyn til x.\n",
    "svar = sp.diff(i20(x),x)\n",
    "\n",
    "# Lager ett penere utrykk med bruk av \"simplify\".\n",
    "sp.simplify(svar)"
   ]
  },
  {
   "cell_type": "code",
   "execution_count": 76,
   "id": "f9c11bcc-25c0-4074-95f1-4c556a393581",
   "metadata": {},
   "outputs": [
    {
     "data": {
      "text/latex": [
       "$\\displaystyle 3 x^{2} + 1$"
      ],
      "text/plain": [
       "3*x**2 + 1"
      ]
     },
     "execution_count": 76,
     "metadata": {},
     "output_type": "execute_result"
    }
   ],
   "source": [
    "# Oppgave 1j)\n",
    "\n",
    "# Definerer funksjonen.\n",
    "def j20(x):\n",
    "    return x*x**2+1*x\n",
    "\n",
    "# Derividerer med hensyn til x.\n",
    "svar = sp.diff(j20(x),x)\n",
    "\n",
    "# Lager ett penere utrykk med bruk av \"simplify\".\n",
    "sp.simplify(svar)"
   ]
  },
  {
   "cell_type": "code",
   "execution_count": 77,
   "id": "ba4295ac-22fc-428f-b1dc-097f377376bb",
   "metadata": {},
   "outputs": [
    {
     "data": {
      "text/latex": [
       "$\\displaystyle \\frac{x \\left(- x^{3} - 12 x - 2\\right)}{x^{6} - 2 x^{3} + 1}$"
      ],
      "text/plain": [
       "x*(-x**3 - 12*x - 2)/(x**6 - 2*x**3 + 1)"
      ]
     },
     "execution_count": 77,
     "metadata": {},
     "output_type": "execute_result"
    }
   ],
   "source": [
    "# Oppgave 1k)\n",
    "\n",
    "# Definerer funksjonen.\n",
    "def k20(x):\n",
    "    return (x**2+4)/(x**3-1)\n",
    "\n",
    "# Derividerer med hensyn til x.\n",
    "svar = sp.diff(k20(x),x)\n",
    "\n",
    "# Lager ett penere utrykk med bruk av \"simplify\".\n",
    "sp.simplify(svar)"
   ]
  },
  {
   "cell_type": "code",
   "execution_count": 78,
   "id": "b11e0b9d-fb17-4f18-8454-66c1f24de71e",
   "metadata": {},
   "outputs": [
    {
     "data": {
      "text/latex": [
       "$\\displaystyle \\frac{2}{\\left(x + 2\\right)^{2}}$"
      ],
      "text/plain": [
       "2/(x + 2)**2"
      ]
     },
     "execution_count": 78,
     "metadata": {},
     "output_type": "execute_result"
    }
   ],
   "source": [
    "# Oppgave 1l)\n",
    "\n",
    "# Definerer funksjonen.\n",
    "def l20(x):\n",
    "    return (x**2)/(x**2+2*x)\n",
    "\n",
    "# Derividerer med hensyn til x.\n",
    "svar = sp.diff(l20(x),x)\n",
    "\n",
    "# Lager ett penere utrykk med bruk av \"simplify\".\n",
    "sp.simplify(svar)"
   ]
  },
  {
   "cell_type": "code",
   "execution_count": 79,
   "id": "f2d9c3da-ef27-4064-93df-cab9633114cd",
   "metadata": {},
   "outputs": [
    {
     "data": {
      "text/latex": [
       "$\\displaystyle \\frac{x^{2} - 4 x - 10}{x^{2} - 4 x + 4}$"
      ],
      "text/plain": [
       "(x**2 - 4*x - 10)/(x**2 - 4*x + 4)"
      ]
     },
     "execution_count": 79,
     "metadata": {},
     "output_type": "execute_result"
    }
   ],
   "source": [
    "# Oppgave 1m)\n",
    "\n",
    "# Definerer funksjonen.\n",
    "def m20(x):\n",
    "    return (x**2+4*x+2)/(x-2)\n",
    "\n",
    "# Derividerer med hensyn til x.\n",
    "svar = sp.diff(m20(x),x)\n",
    "\n",
    "# Lager ett penere utrykk med bruk av \"simplify\".\n",
    "sp.simplify(svar)"
   ]
  },
  {
   "cell_type": "code",
   "execution_count": 80,
   "id": "be9d1a88-42dc-47b4-9eb1-9e366d0f65b9",
   "metadata": {},
   "outputs": [
    {
     "data": {
      "text/latex": [
       "$\\displaystyle \\frac{x^{4} - x^{2} + 2}{x^{4} - 2 x^{2} + 1}$"
      ],
      "text/plain": [
       "(x**4 - x**2 + 2)/(x**4 - 2*x**2 + 1)"
      ]
     },
     "execution_count": 80,
     "metadata": {},
     "output_type": "execute_result"
    }
   ],
   "source": [
    "# Oppgave 2a)\n",
    "\n",
    "# Definerer funksjonen.\n",
    "def a20(x):\n",
    "    return (x**3-2*x)/(x**2-1)\n",
    "\n",
    "# Derividerer med hensyn til x.\n",
    "svar = sp.diff(a20(x),x)\n",
    "\n",
    "# Lager ett penere utrykk med bruk av \"simplify\".\n",
    "sp.simplify(svar)"
   ]
  },
  {
   "cell_type": "code",
   "execution_count": 81,
   "id": "ad7433b0-3cfd-4fdb-8736-db3c08be3ab4",
   "metadata": {},
   "outputs": [
    {
     "data": {
      "text/latex": [
       "$\\displaystyle 4 x^{3}$"
      ],
      "text/plain": [
       "4*x**3"
      ]
     },
     "execution_count": 81,
     "metadata": {},
     "output_type": "execute_result"
    }
   ],
   "source": [
    "# Oppgave 2b)\n",
    "\n",
    "# Definerer funksjonen.\n",
    "def b20(x):\n",
    "    return (x**2+1)*(x**2-1)\n",
    "\n",
    "# Derividerer med hensyn til x.\n",
    "svar = sp.diff(b20(x),x)\n",
    "\n",
    "# Lager ett penere utrykk med bruk av \"simplify\".\n",
    "sp.simplify(svar)"
   ]
  },
  {
   "cell_type": "code",
   "execution_count": 133,
   "id": "5de573c8-a557-45ef-83b7-1867e7f02433",
   "metadata": {},
   "outputs": [
    {
     "data": {
      "text/latex": [
       "$\\displaystyle \\frac{3 \\left(- 2 x^{3} + 4 x^{2} + 7\\right)}{x^{6} + 14 x^{3} + 49}$"
      ],
      "text/plain": [
       "3*(-2*x**3 + 4*x**2 + 7)/(x**6 + 14*x**3 + 49)"
      ]
     },
     "execution_count": 133,
     "metadata": {},
     "output_type": "execute_result"
    }
   ],
   "source": [
    "# Oppgave 2c)\n",
    "\n",
    "# Definerer funksjonen.\n",
    "def c20(x):\n",
    "    return (3*x-4)/(x**3+7)\n",
    "\n",
    "# Derividerer med hensyn til x.\n",
    "svar = sp.diff(c20(x),x)\n",
    "\n",
    "# Lager ett penere utrykk med bruk av \"simplify\".\n",
    "sp.simplify(svar)"
   ]
  },
  {
   "cell_type": "markdown",
   "id": "e2b60a6a-ce61-44b0-90f2-3c4c9861214a",
   "metadata": {},
   "source": [
    "### Oppgave 21"
   ]
  },
  {
   "cell_type": "code",
   "execution_count": 88,
   "id": "8f27503a-aae4-47be-b040-1c70c7a26201",
   "metadata": {},
   "outputs": [
    {
     "data": {
      "text/latex": [
       "$\\displaystyle 15 x^{4} \\left(x^{2} + 2\\right) \\left(x^{2} + 6\\right)^{4}$"
      ],
      "text/plain": [
       "15*x**4*(x**2 + 2)*(x**2 + 6)**4"
      ]
     },
     "execution_count": 88,
     "metadata": {},
     "output_type": "execute_result"
    }
   ],
   "source": [
    "# Oppgave 1a)\n",
    "\n",
    "# Definerer funksjonen.\n",
    "def a21(x):\n",
    "    return (x**3+6*x)**5\n",
    "\n",
    "# Derividerer med hensyn til x.\n",
    "svar = sp.diff(a21(x),x)\n",
    "\n",
    "# Lager ett penere utrykk med bruk av \"simplify\".\n",
    "\n",
    "sp.simplify(svar)"
   ]
  },
  {
   "cell_type": "code",
   "execution_count": 84,
   "id": "0969c9b9-d8ee-4c90-ba37-151370287807",
   "metadata": {},
   "outputs": [
    {
     "data": {
      "text/latex": [
       "$\\displaystyle \\frac{2 x}{\\sqrt{2 x^{2} + 5}}$"
      ],
      "text/plain": [
       "2*x/sqrt(2*x**2 + 5)"
      ]
     },
     "execution_count": 84,
     "metadata": {},
     "output_type": "execute_result"
    }
   ],
   "source": [
    "# Oppgave 1b)\n",
    "\n",
    "# Definerer funksjonen.\n",
    "def b21(x):\n",
    "    return sp.sqrt(2*x**2+5)\n",
    "\n",
    "# Derividerer med hensyn til x.\n",
    "svar = sp.diff(b21(x),x)\n",
    "\n",
    "# Lager ett penere utrykk med bruk av \"simplify\".\n",
    "sp.simplify(svar)"
   ]
  },
  {
   "cell_type": "code",
   "execution_count": 87,
   "id": "62bd7f31-1b37-42a8-8c34-5cc99680bad2",
   "metadata": {},
   "outputs": [
    {
     "data": {
      "text/latex": [
       "$\\displaystyle \\frac{64 x^{3} \\cdot \\left(3 - x^{2}\\right)}{\\left(x^{2} + 3\\right)^{5}}$"
      ],
      "text/plain": [
       "64*x**3*(3 - x**2)/(x**2 + 3)**5"
      ]
     },
     "execution_count": 87,
     "metadata": {},
     "output_type": "execute_result"
    }
   ],
   "source": [
    "# Oppgave 1c)\n",
    "\n",
    "# Definerer funksjonen.\n",
    "def c21(x):\n",
    "    return ((2*x)/(x**2+3))**4\n",
    "\n",
    "# Derividerer med hensyn til x.\n",
    "svar = sp.diff(c21(x),x)\n",
    "\n",
    "# Lager ett penere utrykk med bruk av \"simplify\".\n",
    "sp.simplify(svar)"
   ]
  },
  {
   "cell_type": "code",
   "execution_count": 86,
   "id": "ab2b11e3-0fb4-4747-8218-6d00ef57799f",
   "metadata": {},
   "outputs": [
    {
     "data": {
      "text/latex": [
       "$\\displaystyle 12.0 x^{3} \\left(2 x^{4} + 9\\right)^{0.5}$"
      ],
      "text/plain": [
       "12.0*x**3*(2*x**4 + 9)**0.5"
      ]
     },
     "execution_count": 86,
     "metadata": {},
     "output_type": "execute_result"
    }
   ],
   "source": [
    "# Oppgave 1d)\n",
    "\n",
    "# Definerer funksjonen.\n",
    "def d21(x):\n",
    "    return (2*x**4+9)**1.5\n",
    "\n",
    "# Derividerer med hensyn til x.\n",
    "svar = sp.diff(d21(x),x)\n",
    "\n",
    "# Lager ett penere utrykk med bruk av \"simplify\".\n",
    "sp.simplify(svar)"
   ]
  },
  {
   "cell_type": "code",
   "execution_count": 89,
   "id": "43f95ddb-57bb-452d-be84-fbbdcba7dc95",
   "metadata": {},
   "outputs": [
    {
     "data": {
      "text/latex": [
       "$\\displaystyle - \\frac{x}{\\left(x^{2} + 1\\right)^{\\frac{3}{2}}}$"
      ],
      "text/plain": [
       "-x/(x**2 + 1)**(3/2)"
      ]
     },
     "execution_count": 89,
     "metadata": {},
     "output_type": "execute_result"
    }
   ],
   "source": [
    "# Oppgave 1e)\n",
    "\n",
    "# Definerer funksjonen.\n",
    "def e21(x):\n",
    "    return (1)/(sp.sqrt(1+x**2))\n",
    "\n",
    "# Derividerer med hensyn til x.\n",
    "svar = sp.diff(e21(x),x)\n",
    "\n",
    "# Lager ett penere utrykk med bruk av \"simplify\".\n",
    "sp.simplify(svar)"
   ]
  },
  {
   "cell_type": "code",
   "execution_count": 93,
   "id": "b826d635-a0d6-4c32-9f10-2fe3d23da017",
   "metadata": {},
   "outputs": [
    {
     "data": {
      "text/latex": [
       "$\\displaystyle x^{4} \\left(x + 2\\right)^{2} \\cdot \\left(8 x + 10\\right)$"
      ],
      "text/plain": [
       "x**4*(x + 2)**2*(8*x + 10)"
      ]
     },
     "execution_count": 93,
     "metadata": {},
     "output_type": "execute_result"
    }
   ],
   "source": [
    "# Oppgave 1f)\n",
    "\n",
    "# Definerer funksjonen.\n",
    "def f21(x):\n",
    "    return x**2*((x**2+2*x)**3)\n",
    "\n",
    "# Derividerer med hensyn til x.\n",
    "svar = sp.diff(f21(x),x)\n",
    "\n",
    "# Lager ett penere utrykk med bruk av \"simplify\".\n",
    "sp.simplify(svar)"
   ]
  },
  {
   "cell_type": "code",
   "execution_count": 91,
   "id": "1a7c6d3e-62e0-47d6-bc10-2dcd7e95d76c",
   "metadata": {},
   "outputs": [
    {
     "data": {
      "text/latex": [
       "$\\displaystyle \\frac{x^{2} \\cdot \\left(3 x - 5\\right)}{\\sqrt{x \\left(x - 2\\right)}}$"
      ],
      "text/plain": [
       "x**2*(3*x - 5)/sqrt(x*(x - 2))"
      ]
     },
     "execution_count": 91,
     "metadata": {},
     "output_type": "execute_result"
    }
   ],
   "source": [
    "# Oppgave 1g)\n",
    "\n",
    "# Definerer funksjonen.\n",
    "def g21(x):\n",
    "    return x**2*sp.sqrt(x**2-2*x)\n",
    "\n",
    "# Derividerer med hensyn til x.\n",
    "svar = sp.diff(g21(x),x)\n",
    "\n",
    "# Lager ett penere utrykk med bruk av \"simplify\".\n",
    "sp.simplify(svar)"
   ]
  },
  {
   "cell_type": "code",
   "execution_count": 94,
   "id": "defc1425-bfaf-487e-ba92-7d499af7dfc6",
   "metadata": {},
   "outputs": [
    {
     "data": {
      "text/latex": [
       "$\\displaystyle \\frac{- 4 x - 1}{x^{2} \\left(x + 1\\right)^{4}}$"
      ],
      "text/plain": [
       "(-4*x - 1)/(x**2*(x + 1)**4)"
      ]
     },
     "execution_count": 94,
     "metadata": {},
     "output_type": "execute_result"
    }
   ],
   "source": [
    "# Oppgave 1h)\n",
    "\n",
    "# Definerer funksjonen.\n",
    "def h21(x):\n",
    "    return (x**2)/((x**2+x)**3)\n",
    "\n",
    "# Derividerer med hensyn til x.\n",
    "svar = sp.diff(h21(x),x)\n",
    "\n",
    "# Lager ett penere utrykk med bruk av \"simplify\".\n",
    "sp.simplify(svar)"
   ]
  },
  {
   "cell_type": "code",
   "execution_count": 95,
   "id": "9285f962-8e28-44a1-a6fb-b4ccdfdc1c69",
   "metadata": {},
   "outputs": [
    {
     "data": {
      "text/latex": [
       "$\\displaystyle x \\left(x^{2} + 1\\right) \\left(x^{3} + 1\\right)^{2} \\cdot \\left(4 x^{3} + 9 x \\left(x^{2} + 1\\right) + 4\\right)$"
      ],
      "text/plain": [
       "x*(x**2 + 1)*(x**3 + 1)**2*(4*x**3 + 9*x*(x**2 + 1) + 4)"
      ]
     },
     "execution_count": 95,
     "metadata": {},
     "output_type": "execute_result"
    }
   ],
   "source": [
    "# Oppgave 1i)\n",
    "\n",
    "# Definerer funksjonen.\n",
    "def i21(x):\n",
    "    return ((x**2+1)**2)*((x**3+1)**3)\n",
    "\n",
    "# Derividerer med hensyn til x.\n",
    "svar = sp.diff(i21(x),x)\n",
    "\n",
    "# Lager ett penere utrykk med bruk av \"simplify\".\n",
    "sp.simplify(svar)"
   ]
  },
  {
   "cell_type": "code",
   "execution_count": 96,
   "id": "6c582894-e4a7-4bdc-aff9-dc5a2895a332",
   "metadata": {},
   "outputs": [
    {
     "data": {
      "text/latex": [
       "$\\displaystyle \\frac{\\sqrt{x^{4} \\left(3 x + 2\\right)^{4}} \\cdot \\left(12 x + 4\\right)}{x \\left(3 x + 2\\right)}$"
      ],
      "text/plain": [
       "sqrt(x**4*(3*x + 2)**4)*(12*x + 4)/(x*(3*x + 2))"
      ]
     },
     "execution_count": 96,
     "metadata": {},
     "output_type": "execute_result"
    }
   ],
   "source": [
    "# Oppgave 2a)\n",
    "\n",
    "# Definerer funksjonen.\n",
    "def a212(x):\n",
    "    return sp.sqrt((3*x**2+2*x)**4)\n",
    "\n",
    "# Derividerer med hensyn til x.\n",
    "svar = sp.diff(a212(x),x)\n",
    "\n",
    "# Lager ett penere utrykk med bruk av \"simplify\".\n",
    "sp.simplify(svar)"
   ]
  },
  {
   "cell_type": "code",
   "execution_count": 97,
   "id": "a8c9dc78-6a42-4474-967f-d582d1251c11",
   "metadata": {},
   "outputs": [
    {
     "data": {
      "text/latex": [
       "$\\displaystyle x \\left(x^{2} + 3\\right)^{3} \\left(x^{3} + 3\\right)^{4} \\cdot \\left(8 x^{3} + 15 x \\left(x^{2} + 3\\right) + 24\\right)$"
      ],
      "text/plain": [
       "x*(x**2 + 3)**3*(x**3 + 3)**4*(8*x**3 + 15*x*(x**2 + 3) + 24)"
      ]
     },
     "execution_count": 97,
     "metadata": {},
     "output_type": "execute_result"
    }
   ],
   "source": [
    "# Oppgave 2b)\n",
    "\n",
    "# Definerer funksjonen.\n",
    "def b212(x):\n",
    "    return ((x**3+3)**5)*((x**2+3)**4)\n",
    "\n",
    "# Derividerer med hensyn til x.\n",
    "svar = sp.diff(b212(x),x)\n",
    "\n",
    "# Lager ett penere utrykk med bruk av \"simplify\".\n",
    "sp.simplify(svar)"
   ]
  },
  {
   "cell_type": "code",
   "execution_count": 98,
   "id": "e9820731-0042-4d33-b5a8-987253befd64",
   "metadata": {},
   "outputs": [
    {
     "data": {
      "text/latex": [
       "$\\displaystyle \\frac{\\sqrt{2} \\sqrt{x^{2}}}{x}$"
      ],
      "text/plain": [
       "sqrt(2)*sqrt(x**2)/x"
      ]
     },
     "execution_count": 98,
     "metadata": {},
     "output_type": "execute_result"
    }
   ],
   "source": [
    "# Oppgave 2c)\n",
    "\n",
    "# Definerer funksjonen.\n",
    "def c212(x):\n",
    "    return sp.sqrt(x**2+1*x**2)\n",
    "\n",
    "# Derividerer med hensyn til x.\n",
    "svar = sp.diff(c212(x),x)\n",
    "\n",
    "# Lager ett penere utrykk med bruk av \"simplify\".\n",
    "sp.simplify(svar)"
   ]
  },
  {
   "cell_type": "code",
   "execution_count": 100,
   "id": "ab01f234-386e-41e0-8e34-3463537ad05b",
   "metadata": {},
   "outputs": [
    {
     "data": {
      "text/latex": [
       "$\\displaystyle \\left(3 x + 2\\right)^{2} \\cdot \\left(12 x + 2\\right)$"
      ],
      "text/plain": [
       "(3*x + 2)**2*(12*x + 2)"
      ]
     },
     "execution_count": 100,
     "metadata": {},
     "output_type": "execute_result"
    }
   ],
   "source": [
    "# Oppgave 2d)\n",
    "\n",
    "# Definerer funksjonen.\n",
    "def d212(x):\n",
    "    return ((2*x+3*x**2)**3)/x**2\n",
    "\n",
    "# Derividerer med hensyn til x.\n",
    "svar = sp.diff(d212(x),x)\n",
    "\n",
    "# Lager ett penere utrykk med bruk av \"simplify\".\n",
    "sp.simplify(svar)"
   ]
  },
  {
   "cell_type": "code",
   "execution_count": 110,
   "id": "6f87b354-ba88-40dd-9212-aa067c3cd483",
   "metadata": {},
   "outputs": [
    {
     "data": {
      "text/latex": [
       "$\\displaystyle \\frac{4 x^{3}}{3 \\left(x^{4} - 5\\right)^{\\frac{2}{3}}}$"
      ],
      "text/plain": [
       "4*x**3/(3*(x**4 - 5)**(2/3))"
      ]
     },
     "execution_count": 110,
     "metadata": {},
     "output_type": "execute_result"
    }
   ],
   "source": [
    "# Oppgave 2e)\n",
    "\n",
    "# Definerer funksjonen.\n",
    "def e212(x):\n",
    "    return sp.cbrt((x**4-5))\n",
    "\n",
    "# Derividerer med hensyn til x.\n",
    "svar = sp.diff(e212(x),x)\n",
    "\n",
    "# Lager ett penere utrykk med bruk av \"simplify\".\n",
    "sp.simplify(svar)"
   ]
  },
  {
   "cell_type": "code",
   "execution_count": 111,
   "id": "243c5ed6-9634-4bcf-b8ff-7957b8470977",
   "metadata": {},
   "outputs": [
    {
     "data": {
      "text/latex": [
       "$\\displaystyle \\frac{x^{2} \\left(x^{4} - 3\\right)}{\\left(x^{4} - 1\\right)^{\\frac{3}{2}}}$"
      ],
      "text/plain": [
       "x**2*(x**4 - 3)/(x**4 - 1)**(3/2)"
      ]
     },
     "execution_count": 111,
     "metadata": {},
     "output_type": "execute_result"
    }
   ],
   "source": [
    "# Oppgave 2f)\n",
    "\n",
    "# Definerer funksjonen.\n",
    "def f212(x):\n",
    "    return (x**3)/(sp.sqrt(x**4-1))\n",
    "\n",
    "# Derividerer med hensyn til x.\n",
    "svar = sp.diff(f212(x),x)\n",
    "\n",
    "# Lager ett penere utrykk med bruk av \"simplify\".\n",
    "sp.simplify(svar)"
   ]
  },
  {
   "cell_type": "markdown",
   "id": "ea37a58a-8222-4cb0-b597-877b7e9cb065",
   "metadata": {},
   "source": [
    "### Oppgave 22"
   ]
  },
  {
   "cell_type": "code",
   "execution_count": 124,
   "id": "bc90376a-fcba-4a3c-a36b-275229da352e",
   "metadata": {},
   "outputs": [
    {
     "data": {
      "text/latex": [
       "$\\displaystyle \\frac{1}{x}$"
      ],
      "text/plain": [
       "1/x"
      ]
     },
     "execution_count": 124,
     "metadata": {},
     "output_type": "execute_result"
    }
   ],
   "source": [
    "# Oppgave 1a)\n",
    "\n",
    "# Definerer funksjonen\n",
    "def a22(x):\n",
    "    return sp.log(5*x)\n",
    "\n",
    "# Derividerer med hensyn til x.\n",
    "svar = sp.diff(a22(x),x)\n",
    "\n",
    "# Lager ett penere utrykk med bruk av \"simplify\"\n",
    "sp.simplify(svar)"
   ]
  },
  {
   "cell_type": "code",
   "execution_count": 116,
   "id": "5c0c6a51-cb5b-4d1a-87d8-f5c7a8e1aaa6",
   "metadata": {},
   "outputs": [
    {
     "data": {
      "text/latex": [
       "$\\displaystyle - 2 e^{- 2 x}$"
      ],
      "text/plain": [
       "-2*exp(-2*x)"
      ]
     },
     "execution_count": 116,
     "metadata": {},
     "output_type": "execute_result"
    }
   ],
   "source": [
    "# Oppgave 1b)\n",
    "\n",
    "# Definerer funksjonen\n",
    "def b22(x):\n",
    "    return sp.exp(-2*x)\n",
    "\n",
    "# Derividerer med hensyn til x.\n",
    "svar = sp.diff(b22(x),x)\n",
    "\n",
    "# Lager ett penere utrykk med bruk av \"simplify\"\n",
    "sp.simplify(svar)"
   ]
  },
  {
   "cell_type": "code",
   "execution_count": 117,
   "id": "51a94ed2-cc07-45d1-a02b-bc97505beddf",
   "metadata": {},
   "outputs": [
    {
     "data": {
      "text/latex": [
       "$\\displaystyle \\frac{1}{x}$"
      ],
      "text/plain": [
       "1/x"
      ]
     },
     "execution_count": 117,
     "metadata": {},
     "output_type": "execute_result"
    }
   ],
   "source": [
    "# Oppgave 1c)\n",
    "\n",
    "# Definerer funksjonen\n",
    "def c22(x):\n",
    "    return sp.log(12*x)-3\n",
    "\n",
    "# Derividerer med hensyn til x.\n",
    "svar = sp.diff(c22(x),x)\n",
    "\n",
    "# Lager ett penere utrykk med bruk av \"simplify\"\n",
    "sp.simplify(svar)"
   ]
  },
  {
   "cell_type": "code",
   "execution_count": 118,
   "id": "6d523ded-b785-4cd7-8d5e-9b3b542074ff",
   "metadata": {},
   "outputs": [
    {
     "data": {
      "text/latex": [
       "$\\displaystyle 2^{x} \\log{\\left(2 \\right)}$"
      ],
      "text/plain": [
       "2**x*log(2)"
      ]
     },
     "execution_count": 118,
     "metadata": {},
     "output_type": "execute_result"
    }
   ],
   "source": [
    "# Oppgave 1d)\n",
    "\n",
    "# Definerer funksjonen\n",
    "def d22(x):\n",
    "    return 2**x\n",
    "\n",
    "# Derividerer med hensyn til x.\n",
    "svar = sp.diff(d22(x),x)\n",
    "\n",
    "# Lager ett penere utrykk med bruk av \"simplify\"\n",
    "sp.simplify(svar)"
   ]
  },
  {
   "cell_type": "code",
   "execution_count": 119,
   "id": "f6bd0011-090b-4951-b1e4-c33dc08f35be",
   "metadata": {},
   "outputs": [
    {
     "data": {
      "text/latex": [
       "$\\displaystyle 3 e^{3 x + 5}$"
      ],
      "text/plain": [
       "3*exp(3*x + 5)"
      ]
     },
     "execution_count": 119,
     "metadata": {},
     "output_type": "execute_result"
    }
   ],
   "source": [
    "# Oppgave 1e)\n",
    "\n",
    "# Definerer funksjonen\n",
    "def e22(x):\n",
    "    return sp.exp(3*x+5)\n",
    "\n",
    "# Derividerer med hensyn til x.\n",
    "svar = sp.diff(e22(x),x)\n",
    "\n",
    "# Lager ett penere utrykk med bruk av \"simplify\"\n",
    "sp.simplify(svar)"
   ]
  },
  {
   "cell_type": "code",
   "execution_count": 120,
   "id": "01a148cf-0de5-47be-889a-a4e41a8e8d96",
   "metadata": {},
   "outputs": [
    {
     "data": {
      "text/latex": [
       "$\\displaystyle \\frac{5 x^{4}}{x^{5} + 1}$"
      ],
      "text/plain": [
       "5*x**4/(x**5 + 1)"
      ]
     },
     "execution_count": 120,
     "metadata": {},
     "output_type": "execute_result"
    }
   ],
   "source": [
    "# Oppgave 1f)\n",
    "\n",
    "# Definerer funksjonen\n",
    "def f22(x):\n",
    "    return sp.log(x**5+1)\n",
    "\n",
    "# Derividerer med hensyn til x.\n",
    "svar = sp.diff(f22(x),x)\n",
    "\n",
    "# Lager ett penere utrykk med bruk av \"simplify\"\n",
    "sp.simplify(svar)"
   ]
  },
  {
   "cell_type": "code",
   "execution_count": 121,
   "id": "5c3a8827-1300-4c40-a7f7-9b3baab0c7ac",
   "metadata": {},
   "outputs": [
    {
     "data": {
      "text/latex": [
       "$\\displaystyle 8 \\left(x + 1\\right) e^{4 x \\left(x + 2\\right)}$"
      ],
      "text/plain": [
       "8*(x + 1)*exp(4*x*(x + 2))"
      ]
     },
     "execution_count": 121,
     "metadata": {},
     "output_type": "execute_result"
    }
   ],
   "source": [
    "# Oppgave 1g)\n",
    "\n",
    "# Definerer funksjonen\n",
    "def g22(x):\n",
    "    return sp.exp(4*x**2+8*x)\n",
    "\n",
    "# Derividerer med hensyn til x.\n",
    "svar = sp.diff(g22(x),x)\n",
    "\n",
    "# Lager ett penere utrykk med bruk av \"simplify\"\n",
    "sp.simplify(svar)"
   ]
  },
  {
   "cell_type": "code",
   "execution_count": 122,
   "id": "17e379ed-c5f5-4d18-ad2a-e96207e4dad5",
   "metadata": {},
   "outputs": [
    {
     "data": {
      "text/latex": [
       "$\\displaystyle - \\frac{1}{x}$"
      ],
      "text/plain": [
       "-1/x"
      ]
     },
     "execution_count": 122,
     "metadata": {},
     "output_type": "execute_result"
    }
   ],
   "source": [
    "# Oppgave 1h)\n",
    "\n",
    "# Definerer funksjonen\n",
    "def h22(x):\n",
    "    return sp.log(1/x)\n",
    "\n",
    "# Derividerer med hensyn til x.\n",
    "svar = sp.diff(h22(x),x)\n",
    "\n",
    "# Lager ett penere utrykk med bruk av \"simplify\"\n",
    "sp.simplify(svar)"
   ]
  },
  {
   "cell_type": "code",
   "execution_count": 125,
   "id": "84297995-9a1c-408b-bfd6-5c06f1e36e89",
   "metadata": {},
   "outputs": [
    {
     "data": {
      "text/latex": [
       "$\\displaystyle 12 e^{4 x} + \\frac{6}{x}$"
      ],
      "text/plain": [
       "12*exp(4*x) + 6/x"
      ]
     },
     "execution_count": 125,
     "metadata": {},
     "output_type": "execute_result"
    }
   ],
   "source": [
    "# Oppgave 1i)\n",
    "\n",
    "# Definerer funksjonen\n",
    "def i22(x):\n",
    "    return 6*sp.log(x)+3*sp.exp(4*x)\n",
    "\n",
    "# Derividerer med hensyn til x.\n",
    "svar = sp.diff(i22(x),x)\n",
    "\n",
    "# Lager ett penere utrykk med bruk av \"simplify\"\n",
    "sp.simplify(svar)"
   ]
  },
  {
   "cell_type": "code",
   "execution_count": 126,
   "id": "2925a43e-2f4f-495e-8963-837ceae43b4d",
   "metadata": {},
   "outputs": [
    {
     "data": {
      "text/latex": [
       "$\\displaystyle \\left(1 - x\\right) e^{- x}$"
      ],
      "text/plain": [
       "(1 - x)*exp(-x)"
      ]
     },
     "execution_count": 126,
     "metadata": {},
     "output_type": "execute_result"
    }
   ],
   "source": [
    "# Oppgave 1j)\n",
    "\n",
    "# Definerer funksjonen\n",
    "def j22(x):\n",
    "    return x*sp.exp(-x)\n",
    "\n",
    "# Derividerer med hensyn til x.\n",
    "svar = sp.diff(j22(x),x)\n",
    "\n",
    "# Lager ett penere utrykk med bruk av \"simplify\"\n",
    "sp.simplify(svar)"
   ]
  },
  {
   "cell_type": "code",
   "execution_count": 128,
   "id": "a22579c3-bde4-4411-8514-9534acaa6446",
   "metadata": {},
   "outputs": [
    {
     "data": {
      "text/latex": [
       "$\\displaystyle \\frac{2 x \\left(x^{2} + \\left(x^{2} + 2\\right) \\log{\\left(x^{2} + 2 \\right)}\\right)}{x^{2} + 2}$"
      ],
      "text/plain": [
       "2*x*(x**2 + (x**2 + 2)*log(x**2 + 2))/(x**2 + 2)"
      ]
     },
     "execution_count": 128,
     "metadata": {},
     "output_type": "execute_result"
    }
   ],
   "source": [
    "# Oppgave 1k)\n",
    "\n",
    "# Definerer funksjonen\n",
    "def k22(x):\n",
    "    return (x**2)*sp.log(x**2+2)\n",
    "\n",
    "# Derividerer med hensyn til x.\n",
    "svar = sp.diff(k22(x),x)\n",
    "\n",
    "# Lager ett penere utrykk med bruk av \"simplify\"\n",
    "sp.simplify(svar)"
   ]
  },
  {
   "cell_type": "code",
   "execution_count": 129,
   "id": "af74eba9-2028-442b-80c5-0c09b1e5f3a2",
   "metadata": {},
   "outputs": [
    {
     "data": {
      "text/latex": [
       "$\\displaystyle x^{2} \\cdot \\left(2 x + 3\\right) e^{2 x}$"
      ],
      "text/plain": [
       "x**2*(2*x + 3)*exp(2*x)"
      ]
     },
     "execution_count": 129,
     "metadata": {},
     "output_type": "execute_result"
    }
   ],
   "source": [
    "# Oppgave 2a)\n",
    "\n",
    "# Definerer funksjonen\n",
    "def a222(x):\n",
    "    return x**3*sp.exp(2*x)\n",
    "\n",
    "# Derividerer med hensyn til x.\n",
    "svar = sp.diff(a222(x),x)\n",
    "\n",
    "# Lager ett penere utrykk med bruk av \"simplify\"\n",
    "sp.simplify(svar)"
   ]
  },
  {
   "cell_type": "code",
   "execution_count": 130,
   "id": "600a2f26-ca6f-462a-9ee8-4124c1d38109",
   "metadata": {},
   "outputs": [
    {
     "data": {
      "text/latex": [
       "$\\displaystyle \\frac{4 x}{x^{4} - 1}$"
      ],
      "text/plain": [
       "4*x/(x**4 - 1)"
      ]
     },
     "execution_count": 130,
     "metadata": {},
     "output_type": "execute_result"
    }
   ],
   "source": [
    "# Oppgave 2b)\n",
    "\n",
    "# Definerer funksjonen\n",
    "def b222(x):\n",
    "    return sp.log((x**2-1)/(x**2+1))\n",
    "\n",
    "# Derividerer med hensyn til x.\n",
    "svar = sp.diff(b222(x),x)\n",
    "\n",
    "# Lager ett penere utrykk med bruk av \"simplify\"\n",
    "sp.simplify(svar)"
   ]
  },
  {
   "cell_type": "code",
   "execution_count": 131,
   "id": "91a683a3-46d6-4ef5-8028-84bbd9bf61ca",
   "metadata": {},
   "outputs": [
    {
     "data": {
      "text/latex": [
       "$\\displaystyle \\frac{2 x \\left(x^{2} + \\left(x^{2} + 2\\right) \\log{\\left(x^{2} + 2 \\right)}\\right)}{x^{2} + 2}$"
      ],
      "text/plain": [
       "2*x*(x**2 + (x**2 + 2)*log(x**2 + 2))/(x**2 + 2)"
      ]
     },
     "execution_count": 131,
     "metadata": {},
     "output_type": "execute_result"
    }
   ],
   "source": [
    "# Oppgave 2c)\n",
    "\n",
    "# Definerer funksjonen\n",
    "def c222(x):\n",
    "    return x**2*sp.log(x**2+2)\n",
    "\n",
    "# Derividerer med hensyn til x.\n",
    "svar = sp.diff(c222(x),x)\n",
    "\n",
    "# Lager ett penere utrykk med bruk av \"simplify\"\n",
    "sp.simplify(svar)"
   ]
  },
  {
   "cell_type": "code",
   "execution_count": 132,
   "id": "65eb80c9-a77f-4e63-8dc5-cb969363848f",
   "metadata": {},
   "outputs": [
    {
     "data": {
      "text/latex": [
       "$\\displaystyle \\frac{\\left(- x^{2} - 2 x - 1\\right) e^{- x}}{\\left(x^{2} + 1\\right)^{2}}$"
      ],
      "text/plain": [
       "(-x**2 - 2*x - 1)*exp(-x)/(x**2 + 1)**2"
      ]
     },
     "execution_count": 132,
     "metadata": {},
     "output_type": "execute_result"
    }
   ],
   "source": [
    "# Oppgave 2d)\n",
    "\n",
    "# Definerer funksjonen\n",
    "def d222(x):\n",
    "    return (sp.exp(-x))/(x**2+1)\n",
    "\n",
    "# Derividerer med hensyn til x.\n",
    "svar = sp.diff(d222(x),x)\n",
    "\n",
    "# Lager ett penere utrykk med bruk av \"simplify\"\n",
    "sp.simplify(svar)"
   ]
  }
 ],
 "metadata": {
  "kernelspec": {
   "display_name": "Python 3 (ipykernel)",
   "language": "python",
   "name": "python3"
  },
  "language_info": {
   "codemirror_mode": {
    "name": "ipython",
    "version": 3
   },
   "file_extension": ".py",
   "mimetype": "text/x-python",
   "name": "python",
   "nbconvert_exporter": "python",
   "pygments_lexer": "ipython3",
   "version": "3.9.13"
  }
 },
 "nbformat": 4,
 "nbformat_minor": 5
}

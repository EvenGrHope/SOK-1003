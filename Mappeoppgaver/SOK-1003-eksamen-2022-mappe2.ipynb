{
 "cells": [
  {
   "cell_type": "markdown",
   "id": "44d8d9ac-9714-458a-a55d-679e7f3990ab",
   "metadata": {},
   "source": [
    "# Mappeoppgave 2"
   ]
  },
  {
   "cell_type": "markdown",
   "id": "8c9e5c66-c191-45ef-a422-2d3ffe170cd1",
   "metadata": {},
   "source": [
    "#### Informasjon om oppgaven\n",
    "Når du besvarer oppgaven, husk: \n",
    "- les oppgaveteksten nøye\n",
    "- kommenter koden din\n",
    "- sett navn på akser og lignende i figurene\n",
    "- skriv hvor du har hentet kodesnutter fra, hvis du gjør det\n",
    "- bruk engelske variabelnavn og vær konsistent med hvordan du bruker store og små bokstaver\n",
    "- bruk mest mulig funksjoner for ting som kan repeteres\n",
    "- En kort kode kan være en bra kode, så ikke gjør det mer komplisert enn det spørres om.\n",
    "\n",
    "Du kan få full pott uten å svare på oppgaven som er markert \"ekstrapoeng\". Du blir likevel belønnet for denne (dvs. hvis du har noen feil og får 45 poeng totalt, så kan du få en høyere poengsum hvis du også har svart på \"ekstrapoeng\". \n",
    "\n",
    "#### Innlevering av oppgavene\n",
    "Du skal levere begge mappene samtidig (det vil si denne oppgaven og mappe 1). Innleveringsfristen er 6 desember kl 13:00. \n",
    "Begge oppgavene skal leveres i github (som jupyter-fil) og wiseflow (som PDF). Bruk navnet  \"SOK-1003-eksamen-2022-mappe2\" på filene.\n",
    "- For github: Husk å gi meg (brukernavn \"okaars\") tilgang til github-reposetoriet deres. Hvis dere har satt reposetoriet til public (anbefales ikke), må dere dele lenken til dette på ole.k.aars@uit.no\n",
    "- For wiseflow: En person fra hver gruppe (for hver mappeoppgave), leverer inn. Ved innlevering kan du krysse av hvem som er på gruppen din \n",
    "\n",
    "Se generell informasjon om hvordan man leverer oppgaven <th><a href='https://uit-sok-1003-h22.github.io/semesteroppgave.html'>her</a>.\n",
    "    \n",
    "<b> NB!:</b> En person fra gruppa må <a href='https://docs.google.com/forms/d/e/1FAIpQLSeljUukzUU5d-VbxyM4C0x4WUplhUKBCU5wIpPZl_bP5kN71A/viewform?usp=sf_link'> fylle ut dette skjemaet </a>  for å melde om hvem som er på gruppa. Dere vil i etterkant motta en epost om tidspunkt for presentasjon. \n",
    "    \n",
    "#### Presentasjon\n",
    "Presentasjonen innebærer en kort gjennomgang av oppgaven (10-15 min) etterfulgt av kommentarer fra meg (10-15 min). Alle gruppemedlemmer skal bidra til presentasjonen. Det er anbefalt å laste opp besvarelsen på github forut for presentasjonen (helst to dager før) slik at jeg har mulighet til å lese gjennom. Dere vil ha mulighet til å endre besvarelsen etter presentasjonen, frem til endelig innlevering 6 desember.\n",
    "\n",
    "\n"
   ]
  },
  {
   "cell_type": "markdown",
   "id": "ec0571a1-755f-419e-9def-4dd9d17529bd",
   "metadata": {},
   "source": [
    "#### Forord\n",
    "*Vil gjøre oppmerksom på at jeg har kortet ned noen av kodesnuttene slik at de får plass i ett pdf dokument på bekostning av litt orden.*"
   ]
  },
  {
   "cell_type": "markdown",
   "id": "35980bd0-4c32-4d70-9455-64579c95b32f",
   "metadata": {},
   "source": [
    "<hr/>"
   ]
  },
  {
   "cell_type": "markdown",
   "id": "62d8c2be-cd0c-45b9-9dbb-4542486db324",
   "metadata": {},
   "source": [
    "*Laster inn alle pakkene jeg trenger til denne mappeoppgaven:*"
   ]
  },
  {
   "cell_type": "code",
   "execution_count": 1,
   "id": "7f95d943-59ec-42a2-97d1-4a6dc6bd76c7",
   "metadata": {},
   "outputs": [],
   "source": [
    "import numpy as np\n",
    "import matplotlib.pyplot as plt\n",
    "from matplotlib.patches import Ellipse\n",
    "from IPython.display import display, clear_output\n",
    "from random import randint\n",
    "import sympy as sp \n",
    "from sympy.solvers import solve\n",
    "import eurostat"
   ]
  },
  {
   "cell_type": "markdown",
   "id": "06462796-016e-489b-ba82-74ab1e7ef659",
   "metadata": {},
   "source": [
    "### Oppgave 1 (10 poeng)"
   ]
  },
  {
   "cell_type": "markdown",
   "id": "e023ea65-979b-419f-adf7-cc3d9e3b8a96",
   "metadata": {},
   "source": [
    "a) Vi skal spille et spill der vi kaster en terning 6 ganger. Lag en funksjon med \"for-løkke\" som printer alle terningene som har blitt kastet. Du kan bruke `np.random.randint()` til å lage tilfeldige tall"
   ]
  },
  {
   "cell_type": "code",
   "execution_count": 2,
   "id": "87606b7f-1d07-4f16-ad7b-8f8aebb00ff0",
   "metadata": {},
   "outputs": [
    {
     "name": "stdout",
     "output_type": "stream",
     "text": [
      "5\n",
      "4\n",
      "1\n",
      "1\n",
      "4\n",
      "1\n"
     ]
    }
   ],
   "source": [
    "# Lager en funksjon med \"for-løkke\" som velger 6 tilfeldige tall med verider mellom 1 og 6. \n",
    "def dice():\n",
    "    for i in range(6):\n",
    "        print(randint(1,6))\n",
    "        \n",
    "# Kaller på funksjonen.\n",
    "dice()"
   ]
  },
  {
   "cell_type": "markdown",
   "id": "513b72af-3d26-4e95-a339-9741c9baec4c",
   "metadata": {},
   "source": [
    "b) Juster den samme funksjonen slik at den lagrer tallene i en liste før den printer ut selve listen. Dere kan kalle denne listen for `lot_numbers`. Dere kan vurdere å bruke `append()` som del av funksjonen. "
   ]
  },
  {
   "cell_type": "code",
   "execution_count": 3,
   "id": "c6572aa3-75a2-4148-9945-7143e0215fab",
   "metadata": {},
   "outputs": [
    {
     "name": "stdout",
     "output_type": "stream",
     "text": [
      "[6, 2, 3, 3, 4, 2]\n"
     ]
    }
   ],
   "source": [
    "# Lager en tom liste i funksjonen.\n",
    "# Lager en funksjon med \"for-løkke\" som velger 6 tilfeldige tall med verdier \n",
    "# mellom 1 og 6 som blir lagret i den tomme listen før det printes ut.\n",
    "def dice():\n",
    "    lot_numbers = []\n",
    "    for i in range(6):\n",
    "        dice = randint(1,6)\n",
    "        lot_numbers.append(dice)\n",
    "    print(lot_numbers)\n",
    "    \n",
    "# Printer listen.    \n",
    "dice()"
   ]
  },
  {
   "cell_type": "markdown",
   "id": "82475b42-e595-4a0f-be43-79fcafd68ec6",
   "metadata": {},
   "source": [
    "c) Juster den samme funksjonen slik at den har to argument. Disse argumentene er to terningverdier som du \"tipper\" blir kastet. Bruk `if`, `else` og `elif` til å generere vinnertall. Resultatet fra funksjonen skal printe ut ulike setninger avhengig av om man får 0, 1 eller 2 rette. Setningene velger du selv, men de skal inneholde tallene som du tippet, og tallene som ble trukket.  "
   ]
  },
  {
   "cell_type": "code",
   "execution_count": 4,
   "id": "c5be1693-2afc-462a-a978-eefaf621a038",
   "metadata": {},
   "outputs": [
    {
     "name": "stdout",
     "output_type": "stream",
     "text": [
      "        Your guess was 5 and 3, \n",
      "        the diceroll was 1 and 6, \n",
      "        try again.\n"
     ]
    }
   ],
   "source": [
    "# Bruker samme funksjon som i forrige oppgave til å lage en liste med 2 vinnertall.\n",
    "def dice(d1,d2):\n",
    "    lot_numbers = []\n",
    "    for i in range(2):\n",
    "        dice = randint(1,6)\n",
    "        lot_numbers.append(dice)\n",
    "\n",
    "    # Visst (if) begge tallene bruker gjettet er i listen printer den setningen.\n",
    "    if (d1 in lot_numbers) and (d2 in lot_numbers):\n",
    "        print(f\"\"\"        Your guess was {d1} and {d2}, \n",
    "        the diceroll was {lot_numbers[0]} and {lot_numbers[1]}, \n",
    "        you won!\"\"\")\n",
    "    # Visst ikke (elif) begge tallene men bare ett tall bruken \n",
    "    # gjettet er i listen print dette.\n",
    "    elif (d1 in lot_numbers) and (not d2 in lot_numbers):\n",
    "        print(f\"\"\"        Your guess was {d1} and {d2}, \n",
    "        the diceroll was {lot_numbers[0]} and {lot_numbers[1]}, \n",
    "        close but no sigar!\"\"\")\n",
    "    # Visst ikke (elif) begge tallene men bare ett tall bruken \n",
    "    # gjettet er i listen print dette.\n",
    "    elif (not d1 in lot_numbers) and (d2 in lot_numbers):\n",
    "        print(f\"\"\"        Your guess was {d1} and {d2}, \n",
    "        the diceroll was {lot_numbers[0]} and {lot_numbers[1]}, \n",
    "        close but no sigar!\"\"\")\n",
    "    # Visst ingen (else) av vilkårene over er tilfredstilt print dette.\n",
    "    else:\n",
    "        print(f\"\"\"        Your guess was {d1} and {d2}, \n",
    "        the diceroll was {lot_numbers[0]} and {lot_numbers[1]}, \n",
    "        try again.\"\"\")\n",
    "        \n",
    "# Gjetter to vinnertall og ser om det er riktig.           \n",
    "dice(5,3)"
   ]
  },
  {
   "cell_type": "markdown",
   "id": "4b4172a9-635c-498b-bbbc-8444ba90fdbb",
   "metadata": {
    "tags": []
   },
   "source": [
    "### Oppgave 2 (10 poeng)\n",
    "a) Du har nå begynt å spille lotto i stedet, og satser alt på ett vinnertall. Lag en while-løkke som printer ut tall helt til du har trukket riktig tall (som du definerer selv). For enkelthets skyld kan du begrense utfallsrommet av trekningene til mellom 0-30."
   ]
  },
  {
   "cell_type": "code",
   "execution_count": 5,
   "id": "56ab890f-b7a3-47a1-b605-3606e0324560",
   "metadata": {},
   "outputs": [
    {
     "name": "stdout",
     "output_type": "stream",
     "text": [
      "15\n",
      "9\n",
      "8\n",
      "12\n",
      "25\n",
      "14\n",
      "1\n",
      "13\n",
      "14\n",
      "8\n",
      "28\n",
      "20\n",
      "24\n",
      "21\n",
      "26\n",
      "19\n",
      "10\n"
     ]
    }
   ],
   "source": [
    "# Definerer ett starpunkt for while-løkken.\n",
    "i = 1\n",
    "\n",
    "# Lager en while loop som printer tall helt til riktig tall (10) trekkes. \n",
    "while i != 10:\n",
    "    i = randint(0,30)\n",
    "    print(i)"
   ]
  },
  {
   "cell_type": "markdown",
   "id": "07c405a6-2ba7-4e14-89d8-159f3246a1da",
   "metadata": {},
   "source": [
    "b) Lag et plot av den while-løkken du nettopp lagde. Man blir belønnet om man; \n",
    "- bruker `scatter`; \n",
    "- lager plottet dynamisk (dvs at hver trekning vises hver for seg, og at x-aksen endrer seg etter en gitt verdi); \n",
    "- viser hvor når siste trekningen blir gjort (dvs at den vises kun når du har trukket vinnertallet).\n",
    "\n",
    "Avhengig av hvordan du lager figuren din kan du får bruk for å importere pakkene `Ellipse`, `display`, `clear_output`."
   ]
  },
  {
   "cell_type": "code",
   "execution_count": 6,
   "id": "bee7d9ef-adea-4cc3-b246-27af9816ec1d",
   "metadata": {},
   "outputs": [
    {
     "data": {
      "text/plain": [
       "<matplotlib.patches.Ellipse at 0x7f418da9f880>"
      ]
     },
     "execution_count": 6,
     "metadata": {},
     "output_type": "execute_result"
    },
    {
     "data": {
      "image/png": "[encoded data removed]",
      "text/plain": [
       "<Figure size 1440x720 with 1 Axes>"
      ]
     },
     "metadata": {
      "needs_background": "light"
     },
     "output_type": "display_data"
    }
   ],
   "source": [
    "# Lager ett subplot.\n",
    "fig, ax = plt.subplots(figsize=(20,10))\n",
    "\n",
    "# Gir x og i verdiene ett startpunkt\n",
    "x,i = 0,1\n",
    "\n",
    "# Lager to tomme lister.\n",
    "ypath=[]\n",
    "xpath=[]\n",
    "\n",
    "# Lager en while-løkke med vinnertall 10.\n",
    "# While-løkke start.\n",
    "while i != 10:\n",
    "    i = randint(1,30)\n",
    "    x += 1\n",
    "    \n",
    "    # Fyller inn de to tomme listene\n",
    "    xpath.append(x)\n",
    "    ypath.append(i)\n",
    "\n",
    "    # Lager ett scatter plot med listene som fylles opp.\n",
    "    ax.scatter(xpath,ypath,label=\"Winning number\")\n",
    "    \n",
    "    # Legger til en legend.\n",
    "    ax.legend(loc=\"upper left\", frameon = True, fontsize = 20)\n",
    "    \n",
    "    # Viser figuren.\n",
    "    display(fig)\n",
    "    \n",
    "    # Fjerner de nåværende aksene.\n",
    "    ax.cla()\n",
    "    \n",
    "    # Definerer hvor stor figuren skal være og gjør x-aksen dynamisk.\n",
    "    ax.set_ylim([0,40])\n",
    "    ax.set_xlim([0,max((30, np.max(x)*1.1))])\n",
    "    \n",
    "    # Fjerner den nåværende figuren.\n",
    "    clear_output(wait = True)\n",
    "# While-løkke slutt.\n",
    "    \n",
    "# Legger til en rød prikk når vinnertallet trekkes.\n",
    "c = Ellipse((x,i),0.25,0.8, color = \"red\")\n",
    "ax.add_patch(c)"
   ]
  },
  {
   "cell_type": "markdown",
   "id": "ce376b8a-4ab8-4f08-83cd-31e2a25d918c",
   "metadata": {},
   "source": [
    "c) Ekstrapoeng: gjør det samme som i (b), men lag et histogram som vises ved siden av. Dette histogrammet skal vise hvor mange ganger de ulike tallene ble trekt. Bruk `plt.hist` til dette. Husk at du må definere figur og akseobjekt først.  "
   ]
  },
  {
   "cell_type": "code",
   "execution_count": 8,
   "id": "7daaa879-f592-44b5-94c0-cb023f6dba1e",
   "metadata": {},
   "outputs": [
    {
     "data": {
      "text/plain": [
       "<matplotlib.patches.Ellipse at 0x7f41858a46d0>"
      ]
     },
     "execution_count": 8,
     "metadata": {},
     "output_type": "execute_result"
    },
    {
     "data": {
      "image/png": "[encoded data removed]",
      "text/plain": [
       "<Figure size 1440x720 with 2 Axes>"
      ]
     },
     "metadata": {
      "needs_background": "light"
     },
     "output_type": "display_data"
    }
   ],
   "source": [
    "# Lager ett subplot med to figurer.\n",
    "fig, (ax1, ax2) = plt.subplots(1,2, figsize = (20,10))\n",
    "\n",
    "# Gir x og i verdiene ett startpunkt.\n",
    "x,i = 0,1\n",
    "\n",
    "# Lager to tomme lister.\n",
    "ypath=[]\n",
    "xpath=[]\n",
    "\n",
    "# Lager en while-løkke med vinnertall 10.\n",
    "# While-løkke start.\n",
    "while i != 10:\n",
    "    i = randint(1,30)\n",
    "    x += 1\n",
    "    \n",
    "    # Fyller inn de to tomme listene.\n",
    "    xpath.append(x)\n",
    "    ypath.append(i)\n",
    "\n",
    "    # Lager ett scatter plot med listene som fylles opp i figur 1.\n",
    "    ax1.scatter(xpath,ypath,label=\"Winning number\")\n",
    "\n",
    "    # Lager ett histogram med listen med vinnertall i figur 2.\n",
    "    ax2.hist(ypath, 30)\n",
    "    \n",
    "    # Legger til en legend i figur 1.\n",
    "    ax1.legend(loc=\"upper left\", frameon = True, fontsize = 20)\n",
    "    \n",
    "    # Viser figuren.\n",
    "    display(fig)\n",
    "    \n",
    "    # Fjerner de nåværende aksene.\n",
    "    ax1.cla()\n",
    "    \n",
    "    # Definerer hvor stor figuren skal være og gjør x-aksen dymanisk.\n",
    "    ax1.set_ylim([0,40])\n",
    "    ax1.set_xlim([0,max((30, np.max(x)*1.1))])\n",
    "    \n",
    "    # Fjerner den nåværende figuren.\n",
    "    clear_output(wait = True)\n",
    "# While-løkke slutt.\n",
    "\n",
    "# Legger til en rød prikk når vinnertallet trekkes.\n",
    "c = Ellipse((x,i),0.25,0.8, color = \"red\")\n",
    "ax1.add_patch(c)"
   ]
  },
  {
   "cell_type": "markdown",
   "id": "c8f4e513-42c3-4d3b-a781-e97e5c484c1d",
   "metadata": {},
   "source": [
    "### Oppgave 3 (20 poeng)"
   ]
  },
  {
   "cell_type": "markdown",
   "id": "e3685232-4e17-4460-b83e-bf5ac0fe626c",
   "metadata": {},
   "source": [
    "En bedrift produserer biler. Produktfunksjonen til bedriften defineres slik  $f(L, a, R) = 2RL^{a}$, hvor:\n",
    "- `L` er arbeidskraft, \n",
    "- `a` er produktiviteten til arbeiderne og \n",
    "- `R` er antall robotmaskiner\n",
    "\n",
    "a) Lag en formel for produktfunksjonen til bedriften og plot den grafisk med ulike verdier av `L` på x-aksen. Anta `a=0.6` og `R=2`"
   ]
  },
  {
   "cell_type": "code",
   "execution_count": 2,
   "id": "3a30a765-dd60-4a26-a324-02d6a5c26eb9",
   "metadata": {},
   "outputs": [],
   "source": [
    "# Definerer funksjonen.\n",
    "def prod(L,a,R):\n",
    "    return 2*R*L**a"
   ]
  },
  {
   "cell_type": "code",
   "execution_count": 3,
   "id": "8343112a-a1ed-4916-b373-99a65bb7866d",
   "metadata": {},
   "outputs": [
    {
     "data": {
      "text/plain": [
       "Text(0, 0.5, 'Produksjon')"
      ]
     },
     "execution_count": 3,
     "metadata": {},
     "output_type": "execute_result"
    },
    {
     "data": {
      "image/png": "[encoded data removed]",
      "text/plain": [
       "<Figure size 432x288 with 1 Axes>"
      ]
     },
     "metadata": {
      "needs_background": "light"
     },
     "output_type": "display_data"
    }
   ],
   "source": [
    "# Definerer hvilke verdier jeg ønsker for x aksen og hvor mange punkter jeg ønsker i intervallet.\n",
    "x = np.linspace(0,100,100)\n",
    "\n",
    "# Plotter figuren.\n",
    "plt.plot(x,prod(x,0.6,2), \"red\")\n",
    "\n",
    "# Legger til en grid og gir aksene navn.\n",
    "plt.grid()\n",
    "plt.xlabel(\"Arbeidskraft\", fontsize = 14)\n",
    "plt.ylabel(\"Produksjon\", fontsize = 14)"
   ]
  },
  {
   "cell_type": "markdown",
   "id": "761b1c38-b798-4f13-b954-34ac93544549",
   "metadata": {},
   "source": [
    "b) anta at profittfunksjonen til denne bedriften er ${profit = f(L, a, R)p-wL-cR-K}$, hvor \n",
    "- `w` er månedslønnen til arbeiderne, \n",
    "- `c` er kostnaden for robotmaskinene \n",
    "- `K` er faste kostnader\n",
    "- `p` er utsalgsprisen på bilene. \n",
    "\n",
    "Anta `a=0.6`,`R=6`, `p=300 000`, `w=100 000`, `c= 1 000 000` og `K=90 000 000`. Plot profittfunksjonen figurativt for antall arbeidere (`L`) mellom 0 og 10 000. Vis profitten i millioner (dvs at du må dele på 1 000 000)"
   ]
  },
  {
   "cell_type": "code",
   "execution_count": 4,
   "id": "4a64ccd4-98eb-4cd2-8c64-e1196187092b",
   "metadata": {},
   "outputs": [],
   "source": [
    "# Definerer funksjonen.\n",
    "def prof(L,a,R,p,w,c,K):\n",
    "    return ((2*R*L**a)*p-w*L-c*R-K)"
   ]
  },
  {
   "cell_type": "code",
   "execution_count": 5,
   "id": "6465c732-8ea9-4ae9-b6ad-ed516c568e7e",
   "metadata": {},
   "outputs": [
    {
     "data": {
      "text/plain": [
       "<matplotlib.legend.Legend at 0x7f8fd2047ee0>"
      ]
     },
     "execution_count": 5,
     "metadata": {},
     "output_type": "execute_result"
    },
    {
     "data": {
      "image/png": "[encoded data removed]",
      "text/plain": [
       "<Figure size 1440x720 with 1 Axes>"
      ]
     },
     "metadata": {
      "needs_background": "light"
     },
     "output_type": "display_data"
    }
   ],
   "source": [
    "# Lager ett subplot slik at jeg enkelt kan legge til mer data senere.\n",
    "fig, ax = plt.subplots(figsize = (20,10))\n",
    "\n",
    "# Definerer hvilke verdier jeg ønsker for x aksen og hvor mange punkter jeg ønsker i intervallet.\n",
    "x = np.linspace(0,10000, 10000)\n",
    "\n",
    "# Plotter figuren.\n",
    "ax.plot(x, prof(x, 0.6, 6, 300000, 100000, 1000000, 90000000)/1000000, color = \"blue\", label = \"Fortjeneste\")\n",
    "\n",
    "# Legger til en grid, tittel, legend og gir aksene navn.\n",
    "ax.grid()\n",
    "ax.set_xlabel(\"Arbeidskraft\", fontsize = 14)\n",
    "ax.set_ylabel(\"Profitt i millioner\", fontsize = 14)\n",
    "ax.set_title(\"Profittfunksjon\", fontsize = 14)\n",
    "ax.legend(loc = \"lower left\", frameon = True)"
   ]
  },
  {
   "cell_type": "markdown",
   "id": "abec7c59-aa53-4350-bb7a-01b7ec2488ec",
   "metadata": {},
   "source": [
    "c) Plot profitttfunksjonen for antall robostmaskiner `R=[3, 6, 9]` i samme plot (dvs at tre profittfunksjoner vises sammen). Bruk av \"for loops\" for å gjøre dette belønnes"
   ]
  },
  {
   "cell_type": "code",
   "execution_count": 6,
   "id": "e0d5dadb-c207-4ea2-9093-2edc9cffa6c5",
   "metadata": {},
   "outputs": [
    {
     "data": {
      "text/plain": [
       "Text(0, 0.5, 'Profitt i millioner')"
      ]
     },
     "execution_count": 6,
     "metadata": {},
     "output_type": "execute_result"
    },
    {
     "data": {
      "image/png": "[encoded data removed]",
      "text/plain": [
       "<Figure size 432x288 with 1 Axes>"
      ]
     },
     "metadata": {
      "needs_background": "light"
     },
     "output_type": "display_data"
    }
   ],
   "source": [
    "# Lager en liste med verdier for antall robotmaskiner.\n",
    "R_list = [3,6,9]\n",
    "\n",
    "# Lager en tom liste for framtidige legends.\n",
    "legend_enteries = []\n",
    "\n",
    "# Bruker en \"For-Loop\" til å plotte grafene med R verdier fra listen.\n",
    "# Fyller opp den tomme listen med verdier for R.\n",
    "for R in R_list:\n",
    "    plt.plot(x, prof(x, 0.6, R, 300000, 100000, 1000000, 90000000)/1000000)\n",
    "    legend_enteries.append(\"R = \" +str(R))\n",
    "    \n",
    "# Legger til en grid, legend og gir aksene navn.\n",
    "plt.grid()\n",
    "plt.legend(legend_enteries)\n",
    "plt.xlabel(\"Arbeidskraft\", fontsize = 14)\n",
    "plt.ylabel(\"Profitt i millioner\", fontsize = 14)"
   ]
  },
  {
   "cell_type": "markdown",
   "id": "cd9c9d0d-f57c-4fb7-8869-b795f74ce934",
   "metadata": {},
   "source": [
    "d) finn profittmaksimum og optimal antall arbeidere ved hjelp av derivasjon med samme forutsetninger som i (3b). Bruk `sympy`-pakken til dette "
   ]
  },
  {
   "cell_type": "code",
   "execution_count": 7,
   "id": "1081a59e-9f9f-4a2f-ab4d-a9139740ba5b",
   "metadata": {},
   "outputs": [
    {
     "name": "stdout",
     "output_type": "stream",
     "text": [
      "Optimal antall arbeidere er ca. 2168\n",
      "Profittmaksimum er ca. 48558329\n"
     ]
    }
   ],
   "source": [
    "# Definerer hvilke symboler jeg ønsker å bruke.\n",
    "L,a,R,p,w,c,K = sp.symbols(\"L a R p w c K\")\n",
    "\n",
    "# Deriverer funksjonen med hensyn på L (arbeidskraft).\n",
    "d_prof = sp.diff(prof(L,a,R,p,w,c,K), L)\n",
    "\n",
    "# Setter opp en ligning der den deriverte er lik 0.\n",
    "l_prof = sp.Eq(d_prof, 0)\n",
    "\n",
    "# Løser førsteordenbetingelsen for å finne optimal arbeidsmengde (deriverte = 0).\n",
    "l_max = solve(l_prof, L)[0]\n",
    "\n",
    "# Legger inn optimal arbeidsmengde istedenfor L for å finne profittmaksimum.\n",
    "prof_max = prof(l_max,a,R,p,w,c,K)\n",
    "\n",
    "# Lager ett oppslag med verdiene fra oppgave 3b\n",
    "value_dict = {a:0.6,R:6,p:300000,w:100000,c:1000000,K:90000000}\n",
    "\n",
    "# Printer ut avrundet svar.\n",
    "print(f\"Optimal antall arbeidere er ca. {round(l_max.subs(value_dict))}\")\n",
    "print(f\"Profittmaksimum er ca. {round(prof_max.subs(value_dict))}\")"
   ]
  },
  {
   "cell_type": "markdown",
   "id": "d4614067-a66f-46d5-ae32-d641942554a1",
   "metadata": {},
   "source": [
    "e) vis figurativt med bruk av `fill_between` arealet hvor man taper penger (i rødt) og hvor man tjener penger (i grønt). Marker også profittmaksimum og antall arbeidere i profittmaksimum - gjerne ved bruk av `vlines`. Bruk ellers samme forutsetninger for argumentene som i oppgave (1b)"
   ]
  },
  {
   "cell_type": "code",
   "execution_count": 8,
   "id": "ce520007-cc8e-4808-9fbd-ab78b73148df",
   "metadata": {},
   "outputs": [],
   "source": [
    "# Lager en liste med profittmaksimum delt på 1 mil.\n",
    "max_numb = prof_max.subs(value_dict)\n",
    "max_numb_use = max_numb/1000000\n",
    "\n",
    "# Lager en liste med optimal antall arbeidere.\n",
    "opt_numb = l_max.subs(value_dict)"
   ]
  },
  {
   "cell_type": "code",
   "execution_count": 9,
   "id": "5c7cf32a-f28a-488a-8449-7673b68dc7c1",
   "metadata": {},
   "outputs": [],
   "source": [
    "# Definerer en verdi jeg ønsker for x aksen når jeg skal tegne inn figuren.\n",
    "g = np.linspace(0,10000,10000)\n",
    "L = np.linspace(0,10000,10000)"
   ]
  },
  {
   "cell_type": "code",
   "execution_count": 10,
   "id": "267eccfe-d1ab-4e45-a1f4-63990001efc0",
   "metadata": {},
   "outputs": [
    {
     "data": {
      "image/png": "[encoded data removed]",
      "text/plain": [
       "<Figure size 1440x720 with 1 Axes>"
      ]
     },
     "execution_count": 10,
     "metadata": {},
     "output_type": "execute_result"
    }
   ],
   "source": [
    "# Lager en linje for maksprofitt i figuren.\n",
    "ax.plot(x, max_numb_use*np.ones(len(x)), label = \"Maksprofitt\", color = \"orange\")\n",
    "\n",
    "# Lager en linje for optimal arbeidskraft i figuren. \n",
    "ax.vlines(float(opt_numb), -200, float(max_numb_use), color = \"black\", \n",
    "          linestyles = \"dashed\", label = \"Optimal arbeidskraft\")\n",
    "\n",
    "# Fyller inn figuren der selskapet tjener/taper penger.\n",
    "ax.fill_between(L, prof(L,0.6,6,300000,100000,1000000,90000000)/1000000, \n",
    "                where = prof(L,0.6,6,300000,100000,1000000,90000000)/1000000 > 0, \n",
    "                color = \"#8AFF8A\", label = \"Tjener penger\")\n",
    "ax.fill_between(L, prof(L,0.6,6,300000,100000,1000000,90000000)/1000000, \n",
    "                where = prof(L,0.6,6,300000,100000,1000000,90000000)/1000000 < 0, \n",
    "                color = \"#EC7063\", label = \"Taper penger\")\n",
    "\n",
    "# Legger til en legend.    \n",
    "ax.legend(loc = \"upper right\", frameon = True)\n",
    "\n",
    "# Viser figuren.\n",
    "fig"
   ]
  },
  {
   "cell_type": "markdown",
   "id": "c7c75529-8429-49bd-b475-c3809f0cc087",
   "metadata": {},
   "source": [
    "f) Plot nå to figurer sammen der du viser hva optimal antall arbeidere gir i profitt (slik som i (2e)) og produksjon av antall biler (som du får fra produktfunksjonen). Marker optimum med vlines. Ha grafen med profittfunksjonen over grafen med produktfunksjonen. Du kan bruke `fig, (ax1, ax2) = plt.subplots(2)` når du skal gjøre dette. <br>\n",
    "\n",
    "<b> Hint: </b> Du kan finne antall biler som blir produsert ved å bruke antall arbeidere i profittmaksimum, i produktfunksjonen.\n"
   ]
  },
  {
   "cell_type": "code",
   "execution_count": 18,
   "id": "b2a0e2db-574d-4312-9f9b-3444ececee26",
   "metadata": {},
   "outputs": [
    {
     "name": "stdout",
     "output_type": "stream",
     "text": [
      "Produsenten får produsert 1205 biler med optimal tilpasning\n"
     ]
    }
   ],
   "source": [
    "# Legger inn optimal mengde arbeidere i produktfunksjonen og lagrer dette i en liste.\n",
    "opt_prod = round(prod(2168,0.6,6))\n",
    "\n",
    "# Viser hvor mange biler produsenten får produsert med dette antall arbeidere.\n",
    "print(f\"Produsenten får produsert {opt_prod} biler med optimal tilpasning\")"
   ]
  },
  {
   "cell_type": "code",
   "execution_count": 19,
   "id": "2f85b334-33e7-408c-9417-feed736f987a",
   "metadata": {},
   "outputs": [
    {
     "data": {
      "text/plain": [
       "<matplotlib.legend.Legend at 0x7f4184434ac0>"
      ]
     },
     "execution_count": 19,
     "metadata": {},
     "output_type": "execute_result"
    },
    {
     "data": {
      "image/png": "[encoded data removed]",
      "text/plain": [
       "<Figure size 1440x1440 with 2 Axes>"
      ]
     },
     "metadata": {
      "needs_background": "light"
     },
     "output_type": "display_data"
    }
   ],
   "source": [
    "#\n",
    "fig, (ax1, ax2) = plt.subplots(2, figsize = (20,20))\n",
    "\n",
    "# Lager figur 1.\n",
    "ax1.plot(x, prof(x, 0.6, 6, 300000, 100000, 1000000, 90000000)/1000000, \n",
    "         color = \"blue\", label = \"Fortjeneste\")\n",
    "\n",
    "# Lager en linje for maksprofitt i figuren.\n",
    "ax1.plot(x, max_numb_use*np.ones(len(x)), label = \"Maksprofitt\", color = \"orange\")\n",
    "\n",
    "# Lager en linje for optimal arbeidskraft i figuren. \n",
    "ax1.vlines(float(opt_numb), -200, float(max_numb_use), color = \"black\", \n",
    "           linestyles = \"dashed\", label = \"Optimal arbeidskraft\")\n",
    "\n",
    "# Legger til en grid, tittel, legend og gir aksene navn.\n",
    "ax1.grid()\n",
    "ax1.set_xlabel(\"Arbeidskraft\", fontsize = 14)\n",
    "ax1.set_ylabel(\"Profitt i millioner\", fontsize = 14)\n",
    "ax1.set_title(\"Profittfunksjon\", fontsize = 14)\n",
    "ax1.legend(loc = \"lower left\", frameon = True)\n",
    "\n",
    "\n",
    "# Lager figur 2.\n",
    "ax2.plot(x, prod(x, 0.6, 6), color = \"red\", label = \"Produksjon\")\n",
    "\n",
    "# Lager en linje for maks antall biler.\n",
    "ax2.plot(x, opt_prod*np.ones(len(x)), label = \"Antall biler\", color = \"orange\")\n",
    "\n",
    "# Lager en linje for optimal antall arbeidere. \n",
    "ax2.vlines(float(opt_numb), 0, float(opt_prod), color = \"black\", \n",
    "           linestyles = \"dashed\", label = \"Antall arbeidere\")\n",
    "           \n",
    "# Legger til en grid, tittel, legend og gir aksene navn.\n",
    "ax2.grid()\n",
    "ax2.set_xlabel(\"Arbeidskraft\", fontsize = 14)\n",
    "ax2.set_ylabel(\"Antall biler\", fontsize = 14)\n",
    "ax2.set_title(\"Produktfunksjon\", fontsize = 14)\n",
    "ax2.legend(loc = \"upper left\", frameon = True)"
   ]
  },
  {
   "cell_type": "markdown",
   "id": "405329a8-fe5e-45a0-bf3b-d1182af70c1f",
   "metadata": {},
   "source": [
    "### Oppgave 4 (10 poeng)\n",
    "I denne oppgaven skal vi hente ut et datasett fra eurostat på investeringer i hosholdningen. Bruk koden under til å hente ut dataene.\n",
    "<br><b>NB!:</b> Husk at dere må ha innstallert pakken `eurostat`. Dette gjør dere med å åpne \"Terminal\" og kjøre  `pip install eurostat`."
   ]
  },
  {
   "cell_type": "code",
   "execution_count": 20,
   "id": "444371dc-188a-478a-86f5-4d3c0f36bfff",
   "metadata": {},
   "outputs": [],
   "source": [
    "# Henter data.\n",
    "inv_data = eurostat.get_data_df('tec00098')"
   ]
  },
  {
   "cell_type": "markdown",
   "id": "cfd54317-e3e2-437f-a9d5-26d941c3d9d5",
   "metadata": {},
   "source": [
    "a) Bytt navn på kolonnen \"geo\\\\time\" til \"country\" ved bruk av en av kodene under. Fjern så alle kolonner utenom \"country\" og alle årstallene. \n",
    "<br> <b>NB!:</b> Noen vil få en ekstra første kolonne som heter \"freq\" eller noe annet. Da må dere bruke versjon 2 av koden under. "
   ]
  },
  {
   "cell_type": "code",
   "execution_count": 21,
   "id": "2e3da626-a5e4-4ed5-af0f-29023179b077",
   "metadata": {},
   "outputs": [],
   "source": [
    "# Skifter navn fra \"geo\\time\" til \"country\".\n",
    "inv_data.columns = ['freq', 'unit',   'sector',  'na_item', 'Country'] + list(range(2010, 2022)) \n",
    "\n",
    "# Velger hvilke kolonner jeg ønsker å beholde.\n",
    "chosen_columns = [\"Country\"] + list(range(2010,2021))\n",
    "\n",
    "# Lager en ny dataframe med de kolonnene jeg valgte over.\n",
    "country_data = inv_data.loc[:,chosen_columns]"
   ]
  },
  {
   "cell_type": "markdown",
   "id": "fb718dfb-02b0-49fa-88d0-27fabc3a7948",
   "metadata": {},
   "source": [
    "b) fjern radene med nan verdi. Sett deretter indeksen til \"country\". <br> <b> Hint: </b> En metode er å bruke `isna()` og `any()` over radaksene (dvs. `axis=1`)"
   ]
  },
  {
   "cell_type": "code",
   "execution_count": 22,
   "id": "834b2eda-b002-4bb1-ba63-6db7091c1127",
   "metadata": {},
   "outputs": [
    {
     "data": {
      "text/html": [
       "<div>\n",
       "<style scoped>\n",
       "    .dataframe tbody tr th:only-of-type {\n",
       "        vertical-align: middle;\n",
       "    }\n",
       "\n",
       "    .dataframe tbody tr th {\n",
       "        vertical-align: top;\n",
       "    }\n",
       "\n",
       "    .dataframe thead th {\n",
       "        text-align: right;\n",
       "    }\n",
       "</style>\n",
       "<table border=\"1\" class=\"dataframe\">\n",
       "  <thead>\n",
       "    <tr style=\"text-align: right;\">\n",
       "      <th></th>\n",
       "      <th>2010</th>\n",
       "      <th>2011</th>\n",
       "      <th>2012</th>\n",
       "      <th>2013</th>\n",
       "      <th>2014</th>\n",
       "      <th>2015</th>\n",
       "      <th>2016</th>\n",
       "      <th>2017</th>\n",
       "      <th>2018</th>\n",
       "      <th>2019</th>\n",
       "      <th>2020</th>\n",
       "    </tr>\n",
       "    <tr>\n",
       "      <th>Country</th>\n",
       "      <th></th>\n",
       "      <th></th>\n",
       "      <th></th>\n",
       "      <th></th>\n",
       "      <th></th>\n",
       "      <th></th>\n",
       "      <th></th>\n",
       "      <th></th>\n",
       "      <th></th>\n",
       "      <th></th>\n",
       "      <th></th>\n",
       "    </tr>\n",
       "  </thead>\n",
       "  <tbody>\n",
       "    <tr>\n",
       "      <th>AT</th>\n",
       "      <td>8.44</td>\n",
       "      <td>8.60</td>\n",
       "      <td>8.47</td>\n",
       "      <td>8.58</td>\n",
       "      <td>8.30</td>\n",
       "      <td>8.36</td>\n",
       "      <td>8.29</td>\n",
       "      <td>8.69</td>\n",
       "      <td>8.81</td>\n",
       "      <td>9.03</td>\n",
       "      <td>9.21</td>\n",
       "    </tr>\n",
       "    <tr>\n",
       "      <th>BE</th>\n",
       "      <td>9.82</td>\n",
       "      <td>9.45</td>\n",
       "      <td>9.37</td>\n",
       "      <td>9.03</td>\n",
       "      <td>9.45</td>\n",
       "      <td>9.31</td>\n",
       "      <td>9.33</td>\n",
       "      <td>9.28</td>\n",
       "      <td>9.35</td>\n",
       "      <td>9.78</td>\n",
       "      <td>9.15</td>\n",
       "    </tr>\n",
       "    <tr>\n",
       "      <th>CH</th>\n",
       "      <td>6.83</td>\n",
       "      <td>6.48</td>\n",
       "      <td>6.29</td>\n",
       "      <td>6.31</td>\n",
       "      <td>6.20</td>\n",
       "      <td>6.26</td>\n",
       "      <td>6.13</td>\n",
       "      <td>6.07</td>\n",
       "      <td>6.06</td>\n",
       "      <td>5.69</td>\n",
       "      <td>5.42</td>\n",
       "    </tr>\n",
       "    <tr>\n",
       "      <th>CY</th>\n",
       "      <td>13.72</td>\n",
       "      <td>10.73</td>\n",
       "      <td>8.74</td>\n",
       "      <td>7.53</td>\n",
       "      <td>7.15</td>\n",
       "      <td>6.69</td>\n",
       "      <td>8.02</td>\n",
       "      <td>8.97</td>\n",
       "      <td>11.30</td>\n",
       "      <td>12.98</td>\n",
       "      <td>13.12</td>\n",
       "    </tr>\n",
       "    <tr>\n",
       "      <th>CZ</th>\n",
       "      <td>11.14</td>\n",
       "      <td>9.82</td>\n",
       "      <td>8.74</td>\n",
       "      <td>8.77</td>\n",
       "      <td>8.88</td>\n",
       "      <td>8.84</td>\n",
       "      <td>9.18</td>\n",
       "      <td>7.86</td>\n",
       "      <td>9.00</td>\n",
       "      <td>9.45</td>\n",
       "      <td>9.34</td>\n",
       "    </tr>\n",
       "    <tr>\n",
       "      <th>DE</th>\n",
       "      <td>8.72</td>\n",
       "      <td>9.51</td>\n",
       "      <td>9.61</td>\n",
       "      <td>9.56</td>\n",
       "      <td>9.65</td>\n",
       "      <td>9.32</td>\n",
       "      <td>9.62</td>\n",
       "      <td>9.48</td>\n",
       "      <td>9.68</td>\n",
       "      <td>9.71</td>\n",
       "      <td>9.95</td>\n",
       "    </tr>\n",
       "    <tr>\n",
       "      <th>DK</th>\n",
       "      <td>8.50</td>\n",
       "      <td>8.51</td>\n",
       "      <td>7.87</td>\n",
       "      <td>7.35</td>\n",
       "      <td>7.60</td>\n",
       "      <td>7.50</td>\n",
       "      <td>7.46</td>\n",
       "      <td>8.10</td>\n",
       "      <td>8.33</td>\n",
       "      <td>8.57</td>\n",
       "      <td>8.69</td>\n",
       "    </tr>\n",
       "    <tr>\n",
       "      <th>EA19</th>\n",
       "      <td>9.30</td>\n",
       "      <td>9.21</td>\n",
       "      <td>8.80</td>\n",
       "      <td>8.37</td>\n",
       "      <td>8.24</td>\n",
       "      <td>8.09</td>\n",
       "      <td>8.35</td>\n",
       "      <td>8.52</td>\n",
       "      <td>8.71</td>\n",
       "      <td>8.77</td>\n",
       "      <td>8.53</td>\n",
       "    </tr>\n",
       "    <tr>\n",
       "      <th>EE</th>\n",
       "      <td>6.14</td>\n",
       "      <td>6.47</td>\n",
       "      <td>6.84</td>\n",
       "      <td>7.52</td>\n",
       "      <td>7.79</td>\n",
       "      <td>7.94</td>\n",
       "      <td>8.52</td>\n",
       "      <td>8.99</td>\n",
       "      <td>8.68</td>\n",
       "      <td>9.26</td>\n",
       "      <td>9.94</td>\n",
       "    </tr>\n",
       "    <tr>\n",
       "      <th>EL</th>\n",
       "      <td>9.12</td>\n",
       "      <td>8.54</td>\n",
       "      <td>6.28</td>\n",
       "      <td>4.90</td>\n",
       "      <td>3.16</td>\n",
       "      <td>2.72</td>\n",
       "      <td>2.75</td>\n",
       "      <td>2.69</td>\n",
       "      <td>2.44</td>\n",
       "      <td>2.59</td>\n",
       "      <td>2.97</td>\n",
       "    </tr>\n",
       "    <tr>\n",
       "      <th>ES</th>\n",
       "      <td>9.66</td>\n",
       "      <td>7.85</td>\n",
       "      <td>6.48</td>\n",
       "      <td>4.84</td>\n",
       "      <td>4.72</td>\n",
       "      <td>4.57</td>\n",
       "      <td>4.60</td>\n",
       "      <td>5.17</td>\n",
       "      <td>5.42</td>\n",
       "      <td>5.54</td>\n",
       "      <td>5.34</td>\n",
       "    </tr>\n",
       "    <tr>\n",
       "      <th>EU27_2020</th>\n",
       "      <td>9.07</td>\n",
       "      <td>8.95</td>\n",
       "      <td>8.56</td>\n",
       "      <td>8.12</td>\n",
       "      <td>8.06</td>\n",
       "      <td>7.97</td>\n",
       "      <td>8.22</td>\n",
       "      <td>8.42</td>\n",
       "      <td>8.54</td>\n",
       "      <td>8.60</td>\n",
       "      <td>8.33</td>\n",
       "    </tr>\n",
       "    <tr>\n",
       "      <th>FI</th>\n",
       "      <td>11.66</td>\n",
       "      <td>12.18</td>\n",
       "      <td>12.12</td>\n",
       "      <td>11.49</td>\n",
       "      <td>10.88</td>\n",
       "      <td>10.49</td>\n",
       "      <td>11.57</td>\n",
       "      <td>12.09</td>\n",
       "      <td>12.50</td>\n",
       "      <td>12.25</td>\n",
       "      <td>11.91</td>\n",
       "    </tr>\n",
       "    <tr>\n",
       "      <th>FR</th>\n",
       "      <td>9.31</td>\n",
       "      <td>9.46</td>\n",
       "      <td>9.31</td>\n",
       "      <td>9.27</td>\n",
       "      <td>9.07</td>\n",
       "      <td>8.88</td>\n",
       "      <td>8.99</td>\n",
       "      <td>9.41</td>\n",
       "      <td>9.47</td>\n",
       "      <td>9.62</td>\n",
       "      <td>8.57</td>\n",
       "    </tr>\n",
       "    <tr>\n",
       "      <th>HR</th>\n",
       "      <td>5.96</td>\n",
       "      <td>5.66</td>\n",
       "      <td>5.53</td>\n",
       "      <td>5.01</td>\n",
       "      <td>4.78</td>\n",
       "      <td>4.91</td>\n",
       "      <td>4.96</td>\n",
       "      <td>5.01</td>\n",
       "      <td>5.35</td>\n",
       "      <td>6.37</td>\n",
       "      <td>6.40</td>\n",
       "    </tr>\n",
       "    <tr>\n",
       "      <th>HU</th>\n",
       "      <td>6.67</td>\n",
       "      <td>5.11</td>\n",
       "      <td>4.80</td>\n",
       "      <td>4.92</td>\n",
       "      <td>5.17</td>\n",
       "      <td>5.68</td>\n",
       "      <td>5.86</td>\n",
       "      <td>6.53</td>\n",
       "      <td>7.19</td>\n",
       "      <td>7.52</td>\n",
       "      <td>8.87</td>\n",
       "    </tr>\n",
       "    <tr>\n",
       "      <th>IE</th>\n",
       "      <td>6.01</td>\n",
       "      <td>4.96</td>\n",
       "      <td>4.12</td>\n",
       "      <td>4.29</td>\n",
       "      <td>4.41</td>\n",
       "      <td>4.72</td>\n",
       "      <td>5.26</td>\n",
       "      <td>5.50</td>\n",
       "      <td>6.27</td>\n",
       "      <td>4.92</td>\n",
       "      <td>4.27</td>\n",
       "    </tr>\n",
       "    <tr>\n",
       "      <th>IT</th>\n",
       "      <td>10.33</td>\n",
       "      <td>9.82</td>\n",
       "      <td>9.20</td>\n",
       "      <td>8.42</td>\n",
       "      <td>7.78</td>\n",
       "      <td>7.58</td>\n",
       "      <td>7.68</td>\n",
       "      <td>7.74</td>\n",
       "      <td>7.77</td>\n",
       "      <td>7.64</td>\n",
       "      <td>7.20</td>\n",
       "    </tr>\n",
       "    <tr>\n",
       "      <th>LT</th>\n",
       "      <td>4.73</td>\n",
       "      <td>5.11</td>\n",
       "      <td>4.70</td>\n",
       "      <td>5.56</td>\n",
       "      <td>6.04</td>\n",
       "      <td>6.68</td>\n",
       "      <td>6.89</td>\n",
       "      <td>6.51</td>\n",
       "      <td>6.78</td>\n",
       "      <td>7.09</td>\n",
       "      <td>7.04</td>\n",
       "    </tr>\n",
       "    <tr>\n",
       "      <th>LU</th>\n",
       "      <td>9.69</td>\n",
       "      <td>11.26</td>\n",
       "      <td>10.43</td>\n",
       "      <td>11.34</td>\n",
       "      <td>12.75</td>\n",
       "      <td>12.34</td>\n",
       "      <td>12.48</td>\n",
       "      <td>12.35</td>\n",
       "      <td>11.45</td>\n",
       "      <td>10.34</td>\n",
       "      <td>9.71</td>\n",
       "    </tr>\n",
       "    <tr>\n",
       "      <th>LV</th>\n",
       "      <td>3.56</td>\n",
       "      <td>4.92</td>\n",
       "      <td>6.17</td>\n",
       "      <td>4.62</td>\n",
       "      <td>4.98</td>\n",
       "      <td>5.76</td>\n",
       "      <td>4.87</td>\n",
       "      <td>4.83</td>\n",
       "      <td>5.68</td>\n",
       "      <td>5.85</td>\n",
       "      <td>5.30</td>\n",
       "    </tr>\n",
       "    <tr>\n",
       "      <th>NL</th>\n",
       "      <td>10.05</td>\n",
       "      <td>9.54</td>\n",
       "      <td>8.47</td>\n",
       "      <td>7.46</td>\n",
       "      <td>8.10</td>\n",
       "      <td>9.08</td>\n",
       "      <td>10.60</td>\n",
       "      <td>10.80</td>\n",
       "      <td>11.52</td>\n",
       "      <td>12.15</td>\n",
       "      <td>12.22</td>\n",
       "    </tr>\n",
       "    <tr>\n",
       "      <th>NO</th>\n",
       "      <td>9.71</td>\n",
       "      <td>10.98</td>\n",
       "      <td>11.74</td>\n",
       "      <td>12.32</td>\n",
       "      <td>11.82</td>\n",
       "      <td>11.35</td>\n",
       "      <td>12.34</td>\n",
       "      <td>13.02</td>\n",
       "      <td>12.22</td>\n",
       "      <td>11.89</td>\n",
       "      <td>11.29</td>\n",
       "    </tr>\n",
       "    <tr>\n",
       "      <th>PL</th>\n",
       "      <td>7.99</td>\n",
       "      <td>7.92</td>\n",
       "      <td>8.24</td>\n",
       "      <td>7.59</td>\n",
       "      <td>7.86</td>\n",
       "      <td>7.88</td>\n",
       "      <td>7.52</td>\n",
       "      <td>6.88</td>\n",
       "      <td>5.84</td>\n",
       "      <td>5.93</td>\n",
       "      <td>5.18</td>\n",
       "    </tr>\n",
       "    <tr>\n",
       "      <th>PT</th>\n",
       "      <td>6.27</td>\n",
       "      <td>5.81</td>\n",
       "      <td>5.07</td>\n",
       "      <td>4.37</td>\n",
       "      <td>4.51</td>\n",
       "      <td>4.50</td>\n",
       "      <td>4.71</td>\n",
       "      <td>5.05</td>\n",
       "      <td>5.48</td>\n",
       "      <td>5.65</td>\n",
       "      <td>5.69</td>\n",
       "    </tr>\n",
       "    <tr>\n",
       "      <th>SE</th>\n",
       "      <td>5.86</td>\n",
       "      <td>5.48</td>\n",
       "      <td>4.51</td>\n",
       "      <td>4.61</td>\n",
       "      <td>4.69</td>\n",
       "      <td>5.69</td>\n",
       "      <td>6.15</td>\n",
       "      <td>6.77</td>\n",
       "      <td>6.24</td>\n",
       "      <td>5.88</td>\n",
       "      <td>6.48</td>\n",
       "    </tr>\n",
       "    <tr>\n",
       "      <th>SI</th>\n",
       "      <td>6.92</td>\n",
       "      <td>6.30</td>\n",
       "      <td>5.78</td>\n",
       "      <td>5.50</td>\n",
       "      <td>5.65</td>\n",
       "      <td>5.81</td>\n",
       "      <td>5.85</td>\n",
       "      <td>6.28</td>\n",
       "      <td>6.51</td>\n",
       "      <td>6.33</td>\n",
       "      <td>5.64</td>\n",
       "    </tr>\n",
       "    <tr>\n",
       "      <th>SK</th>\n",
       "      <td>6.32</td>\n",
       "      <td>7.00</td>\n",
       "      <td>6.65</td>\n",
       "      <td>7.08</td>\n",
       "      <td>6.39</td>\n",
       "      <td>6.10</td>\n",
       "      <td>6.75</td>\n",
       "      <td>6.71</td>\n",
       "      <td>6.76</td>\n",
       "      <td>6.79</td>\n",
       "      <td>6.93</td>\n",
       "    </tr>\n",
       "  </tbody>\n",
       "</table>\n",
       "</div>"
      ],
      "text/plain": [
       "            2010   2011   2012   2013   2014   2015   2016   2017   2018  \\\n",
       "Country                                                                    \n",
       "AT          8.44   8.60   8.47   8.58   8.30   8.36   8.29   8.69   8.81   \n",
       "BE          9.82   9.45   9.37   9.03   9.45   9.31   9.33   9.28   9.35   \n",
       "CH          6.83   6.48   6.29   6.31   6.20   6.26   6.13   6.07   6.06   \n",
       "CY         13.72  10.73   8.74   7.53   7.15   6.69   8.02   8.97  11.30   \n",
       "CZ         11.14   9.82   8.74   8.77   8.88   8.84   9.18   7.86   9.00   \n",
       "DE          8.72   9.51   9.61   9.56   9.65   9.32   9.62   9.48   9.68   \n",
       "DK          8.50   8.51   7.87   7.35   7.60   7.50   7.46   8.10   8.33   \n",
       "EA19        9.30   9.21   8.80   8.37   8.24   8.09   8.35   8.52   8.71   \n",
       "EE          6.14   6.47   6.84   7.52   7.79   7.94   8.52   8.99   8.68   \n",
       "EL          9.12   8.54   6.28   4.90   3.16   2.72   2.75   2.69   2.44   \n",
       "ES          9.66   7.85   6.48   4.84   4.72   4.57   4.60   5.17   5.42   \n",
       "EU27_2020   9.07   8.95   8.56   8.12   8.06   7.97   8.22   8.42   8.54   \n",
       "FI         11.66  12.18  12.12  11.49  10.88  10.49  11.57  12.09  12.50   \n",
       "FR          9.31   9.46   9.31   9.27   9.07   8.88   8.99   9.41   9.47   \n",
       "HR          5.96   5.66   5.53   5.01   4.78   4.91   4.96   5.01   5.35   \n",
       "HU          6.67   5.11   4.80   4.92   5.17   5.68   5.86   6.53   7.19   \n",
       "IE          6.01   4.96   4.12   4.29   4.41   4.72   5.26   5.50   6.27   \n",
       "IT         10.33   9.82   9.20   8.42   7.78   7.58   7.68   7.74   7.77   \n",
       "LT          4.73   5.11   4.70   5.56   6.04   6.68   6.89   6.51   6.78   \n",
       "LU          9.69  11.26  10.43  11.34  12.75  12.34  12.48  12.35  11.45   \n",
       "LV          3.56   4.92   6.17   4.62   4.98   5.76   4.87   4.83   5.68   \n",
       "NL         10.05   9.54   8.47   7.46   8.10   9.08  10.60  10.80  11.52   \n",
       "NO          9.71  10.98  11.74  12.32  11.82  11.35  12.34  13.02  12.22   \n",
       "PL          7.99   7.92   8.24   7.59   7.86   7.88   7.52   6.88   5.84   \n",
       "PT          6.27   5.81   5.07   4.37   4.51   4.50   4.71   5.05   5.48   \n",
       "SE          5.86   5.48   4.51   4.61   4.69   5.69   6.15   6.77   6.24   \n",
       "SI          6.92   6.30   5.78   5.50   5.65   5.81   5.85   6.28   6.51   \n",
       "SK          6.32   7.00   6.65   7.08   6.39   6.10   6.75   6.71   6.76   \n",
       "\n",
       "            2019   2020  \n",
       "Country                  \n",
       "AT          9.03   9.21  \n",
       "BE          9.78   9.15  \n",
       "CH          5.69   5.42  \n",
       "CY         12.98  13.12  \n",
       "CZ          9.45   9.34  \n",
       "DE          9.71   9.95  \n",
       "DK          8.57   8.69  \n",
       "EA19        8.77   8.53  \n",
       "EE          9.26   9.94  \n",
       "EL          2.59   2.97  \n",
       "ES          5.54   5.34  \n",
       "EU27_2020   8.60   8.33  \n",
       "FI         12.25  11.91  \n",
       "FR          9.62   8.57  \n",
       "HR          6.37   6.40  \n",
       "HU          7.52   8.87  \n",
       "IE          4.92   4.27  \n",
       "IT          7.64   7.20  \n",
       "LT          7.09   7.04  \n",
       "LU         10.34   9.71  \n",
       "LV          5.85   5.30  \n",
       "NL         12.15  12.22  \n",
       "NO         11.89  11.29  \n",
       "PL          5.93   5.18  \n",
       "PT          5.65   5.69  \n",
       "SE          5.88   6.48  \n",
       "SI          6.33   5.64  \n",
       "SK          6.79   6.93  "
      ]
     },
     "execution_count": 22,
     "metadata": {},
     "output_type": "execute_result"
    }
   ],
   "source": [
    "# Fjerner radene med nan verdi.\n",
    "country_data = country_data.dropna()\n",
    "\n",
    "# Setter indeksen til \"country\".\n",
    "country_data = country_data.set_index(\"Country\")\n",
    "\n",
    "# Viser data.\n",
    "country_data"
   ]
  },
  {
   "cell_type": "markdown",
   "id": "f68af0f0-770f-4217-8491-723e8cc7480e",
   "metadata": {},
   "source": [
    "c) Lag et nytt datasett hvor du kun har med de nordiske landene (dvs. \"NO\", \"SE\", \"DK\", \"FI\"). Det kan være nyttig å bruke `isin` til dette. Bytt så om på kolonner og rader ved hjelp av `transpose`. "
   ]
  },
  {
   "cell_type": "code",
   "execution_count": 23,
   "id": "a82331aa-405e-4414-a088-546298c32291",
   "metadata": {},
   "outputs": [
    {
     "data": {
      "text/html": [
       "<div>\n",
       "<style scoped>\n",
       "    .dataframe tbody tr th:only-of-type {\n",
       "        vertical-align: middle;\n",
       "    }\n",
       "\n",
       "    .dataframe tbody tr th {\n",
       "        vertical-align: top;\n",
       "    }\n",
       "\n",
       "    .dataframe thead th {\n",
       "        text-align: right;\n",
       "    }\n",
       "</style>\n",
       "<table border=\"1\" class=\"dataframe\">\n",
       "  <thead>\n",
       "    <tr style=\"text-align: right;\">\n",
       "      <th>Country</th>\n",
       "      <th>NO</th>\n",
       "      <th>SE</th>\n",
       "      <th>DK</th>\n",
       "      <th>FI</th>\n",
       "    </tr>\n",
       "  </thead>\n",
       "  <tbody>\n",
       "    <tr>\n",
       "      <th>2010</th>\n",
       "      <td>9.71</td>\n",
       "      <td>5.86</td>\n",
       "      <td>8.50</td>\n",
       "      <td>11.66</td>\n",
       "    </tr>\n",
       "    <tr>\n",
       "      <th>2011</th>\n",
       "      <td>10.98</td>\n",
       "      <td>5.48</td>\n",
       "      <td>8.51</td>\n",
       "      <td>12.18</td>\n",
       "    </tr>\n",
       "    <tr>\n",
       "      <th>2012</th>\n",
       "      <td>11.74</td>\n",
       "      <td>4.51</td>\n",
       "      <td>7.87</td>\n",
       "      <td>12.12</td>\n",
       "    </tr>\n",
       "    <tr>\n",
       "      <th>2013</th>\n",
       "      <td>12.32</td>\n",
       "      <td>4.61</td>\n",
       "      <td>7.35</td>\n",
       "      <td>11.49</td>\n",
       "    </tr>\n",
       "    <tr>\n",
       "      <th>2014</th>\n",
       "      <td>11.82</td>\n",
       "      <td>4.69</td>\n",
       "      <td>7.60</td>\n",
       "      <td>10.88</td>\n",
       "    </tr>\n",
       "    <tr>\n",
       "      <th>2015</th>\n",
       "      <td>11.35</td>\n",
       "      <td>5.69</td>\n",
       "      <td>7.50</td>\n",
       "      <td>10.49</td>\n",
       "    </tr>\n",
       "    <tr>\n",
       "      <th>2016</th>\n",
       "      <td>12.34</td>\n",
       "      <td>6.15</td>\n",
       "      <td>7.46</td>\n",
       "      <td>11.57</td>\n",
       "    </tr>\n",
       "    <tr>\n",
       "      <th>2017</th>\n",
       "      <td>13.02</td>\n",
       "      <td>6.77</td>\n",
       "      <td>8.10</td>\n",
       "      <td>12.09</td>\n",
       "    </tr>\n",
       "    <tr>\n",
       "      <th>2018</th>\n",
       "      <td>12.22</td>\n",
       "      <td>6.24</td>\n",
       "      <td>8.33</td>\n",
       "      <td>12.50</td>\n",
       "    </tr>\n",
       "    <tr>\n",
       "      <th>2019</th>\n",
       "      <td>11.89</td>\n",
       "      <td>5.88</td>\n",
       "      <td>8.57</td>\n",
       "      <td>12.25</td>\n",
       "    </tr>\n",
       "    <tr>\n",
       "      <th>2020</th>\n",
       "      <td>11.29</td>\n",
       "      <td>6.48</td>\n",
       "      <td>8.69</td>\n",
       "      <td>11.91</td>\n",
       "    </tr>\n",
       "  </tbody>\n",
       "</table>\n",
       "</div>"
      ],
      "text/plain": [
       "Country     NO    SE    DK     FI\n",
       "2010      9.71  5.86  8.50  11.66\n",
       "2011     10.98  5.48  8.51  12.18\n",
       "2012     11.74  4.51  7.87  12.12\n",
       "2013     12.32  4.61  7.35  11.49\n",
       "2014     11.82  4.69  7.60  10.88\n",
       "2015     11.35  5.69  7.50  10.49\n",
       "2016     12.34  6.15  7.46  11.57\n",
       "2017     13.02  6.77  8.10  12.09\n",
       "2018     12.22  6.24  8.33  12.50\n",
       "2019     11.89  5.88  8.57  12.25\n",
       "2020     11.29  6.48  8.69  11.91"
      ]
     },
     "execution_count": 23,
     "metadata": {},
     "output_type": "execute_result"
    }
   ],
   "source": [
    "# Lager en liste med index verdiene til NO, SE, DK og FI.\n",
    "data_list = [-6,-3,6,12]\n",
    "\n",
    "# Lager et nytt datasett med de nordiske landene.\n",
    "nordic_data = country_data.iloc[data_list]\n",
    "\n",
    "# Bytter på kolonner og rader.\n",
    "nordic_data = nordic_data.transpose()\n",
    "\n",
    "# Viser data.\n",
    "nordic_data"
   ]
  },
  {
   "cell_type": "markdown",
   "id": "2d49e2bb-b44e-4558-b279-1bc10a1ba6ab",
   "metadata": {},
   "source": [
    "d) Lag en ny kolonne som du kaller \"mean\". Denne skal være gjennomsnittet av alle de nordiske landene for hvert av årene (dvs at du må ta gjennomsnittet over radene). Plot så dette og kall y-aksen for \"investering\""
   ]
  },
  {
   "cell_type": "code",
   "execution_count": 24,
   "id": "c78d7898-1931-4b4c-a4ac-f0bd1a4b3499",
   "metadata": {},
   "outputs": [
    {
     "data": {
      "text/html": [
       "<div>\n",
       "<style scoped>\n",
       "    .dataframe tbody tr th:only-of-type {\n",
       "        vertical-align: middle;\n",
       "    }\n",
       "\n",
       "    .dataframe tbody tr th {\n",
       "        vertical-align: top;\n",
       "    }\n",
       "\n",
       "    .dataframe thead th {\n",
       "        text-align: right;\n",
       "    }\n",
       "</style>\n",
       "<table border=\"1\" class=\"dataframe\">\n",
       "  <thead>\n",
       "    <tr style=\"text-align: right;\">\n",
       "      <th>Country</th>\n",
       "      <th>NO</th>\n",
       "      <th>SE</th>\n",
       "      <th>DK</th>\n",
       "      <th>FI</th>\n",
       "      <th>Mean</th>\n",
       "    </tr>\n",
       "  </thead>\n",
       "  <tbody>\n",
       "    <tr>\n",
       "      <th>2010</th>\n",
       "      <td>9.71</td>\n",
       "      <td>5.86</td>\n",
       "      <td>8.50</td>\n",
       "      <td>11.66</td>\n",
       "      <td>8.9325</td>\n",
       "    </tr>\n",
       "    <tr>\n",
       "      <th>2011</th>\n",
       "      <td>10.98</td>\n",
       "      <td>5.48</td>\n",
       "      <td>8.51</td>\n",
       "      <td>12.18</td>\n",
       "      <td>9.2875</td>\n",
       "    </tr>\n",
       "    <tr>\n",
       "      <th>2012</th>\n",
       "      <td>11.74</td>\n",
       "      <td>4.51</td>\n",
       "      <td>7.87</td>\n",
       "      <td>12.12</td>\n",
       "      <td>9.0600</td>\n",
       "    </tr>\n",
       "    <tr>\n",
       "      <th>2013</th>\n",
       "      <td>12.32</td>\n",
       "      <td>4.61</td>\n",
       "      <td>7.35</td>\n",
       "      <td>11.49</td>\n",
       "      <td>8.9425</td>\n",
       "    </tr>\n",
       "    <tr>\n",
       "      <th>2014</th>\n",
       "      <td>11.82</td>\n",
       "      <td>4.69</td>\n",
       "      <td>7.60</td>\n",
       "      <td>10.88</td>\n",
       "      <td>8.7475</td>\n",
       "    </tr>\n",
       "    <tr>\n",
       "      <th>2015</th>\n",
       "      <td>11.35</td>\n",
       "      <td>5.69</td>\n",
       "      <td>7.50</td>\n",
       "      <td>10.49</td>\n",
       "      <td>8.7575</td>\n",
       "    </tr>\n",
       "    <tr>\n",
       "      <th>2016</th>\n",
       "      <td>12.34</td>\n",
       "      <td>6.15</td>\n",
       "      <td>7.46</td>\n",
       "      <td>11.57</td>\n",
       "      <td>9.3800</td>\n",
       "    </tr>\n",
       "    <tr>\n",
       "      <th>2017</th>\n",
       "      <td>13.02</td>\n",
       "      <td>6.77</td>\n",
       "      <td>8.10</td>\n",
       "      <td>12.09</td>\n",
       "      <td>9.9950</td>\n",
       "    </tr>\n",
       "    <tr>\n",
       "      <th>2018</th>\n",
       "      <td>12.22</td>\n",
       "      <td>6.24</td>\n",
       "      <td>8.33</td>\n",
       "      <td>12.50</td>\n",
       "      <td>9.8225</td>\n",
       "    </tr>\n",
       "    <tr>\n",
       "      <th>2019</th>\n",
       "      <td>11.89</td>\n",
       "      <td>5.88</td>\n",
       "      <td>8.57</td>\n",
       "      <td>12.25</td>\n",
       "      <td>9.6475</td>\n",
       "    </tr>\n",
       "    <tr>\n",
       "      <th>2020</th>\n",
       "      <td>11.29</td>\n",
       "      <td>6.48</td>\n",
       "      <td>8.69</td>\n",
       "      <td>11.91</td>\n",
       "      <td>9.5925</td>\n",
       "    </tr>\n",
       "  </tbody>\n",
       "</table>\n",
       "</div>"
      ],
      "text/plain": [
       "Country     NO    SE    DK     FI    Mean\n",
       "2010      9.71  5.86  8.50  11.66  8.9325\n",
       "2011     10.98  5.48  8.51  12.18  9.2875\n",
       "2012     11.74  4.51  7.87  12.12  9.0600\n",
       "2013     12.32  4.61  7.35  11.49  8.9425\n",
       "2014     11.82  4.69  7.60  10.88  8.7475\n",
       "2015     11.35  5.69  7.50  10.49  8.7575\n",
       "2016     12.34  6.15  7.46  11.57  9.3800\n",
       "2017     13.02  6.77  8.10  12.09  9.9950\n",
       "2018     12.22  6.24  8.33  12.50  9.8225\n",
       "2019     11.89  5.88  8.57  12.25  9.6475\n",
       "2020     11.29  6.48  8.69  11.91  9.5925"
      ]
     },
     "execution_count": 24,
     "metadata": {},
     "output_type": "execute_result"
    }
   ],
   "source": [
    "# Lager en ny kolonne som heter mean som inneholder gjennomsnittet til alle de nordiske landene det året.\n",
    "nordic_data[\"Mean\"] = nordic_data.mean(numeric_only = True, axis = 1)\n",
    "\n",
    "# Viser data.\n",
    "nordic_data"
   ]
  },
  {
   "cell_type": "code",
   "execution_count": 25,
   "id": "ed16a6e8-a7e3-42a7-b035-c935978a88f2",
   "metadata": {},
   "outputs": [
    {
     "data": {
      "text/plain": [
       "Text(0.5, 1.0, 'Gjennomsnittelig investering blandt de nordiske landene')"
      ]
     },
     "execution_count": 25,
     "metadata": {},
     "output_type": "execute_result"
    },
    {
     "data": {
      "image/png": "[encoded data removed]",
      "text/plain": [
       "<Figure size 1440x720 with 1 Axes>"
      ]
     },
     "metadata": {
      "needs_background": "light"
     },
     "output_type": "display_data"
    }
   ],
   "source": [
    "# Plotter figuren.\n",
    "nordic_data[\"Mean\"].plot(alpha=1, figsize=(20,10), label = \"Mean\", color = \"purple\")\n",
    "\n",
    "# Legger til grid, legend, aksenavn og tittel.\n",
    "plt.grid()\n",
    "plt.legend(loc=\"upper left\", frameon=True, fontsize = 15)\n",
    "plt.ylabel(\"Investering\", fontsize = 20)\n",
    "plt.xlabel(\"År\", fontsize = 20)\n",
    "plt.title(\"Gjennomsnittelig investering blandt de nordiske landene\", fontsize = 20)"
   ]
  },
  {
   "cell_type": "markdown",
   "id": "e980c513-adcc-4197-ac68-791bc11aae24",
   "metadata": {},
   "source": [
    "## Kildeliste\n",
    "<hr/>"
   ]
  },
  {
   "cell_type": "markdown",
   "id": "93c71c0d-0086-4766-977e-2eab6e044875",
   "metadata": {},
   "source": [
    "Carroll math. (27.10.2020). Building Plots In A For Loop. (Video). YouTube. https://www.youtube.com/watch?v=iszfitjRvGw\n",
    "<br/>\n",
    "How to Fix Your Computer. (5.12.2021). Select Pandas rows based on list index. (Video). Youtube. https://www.youtube.com/watch?v=628GdBeQt38\n",
    "<br/>\n",
    "Matplotlib. (2012-2022). Matplotlib.axes.Axes.fill_between. https://matplotlib.org/stable/api/_as_gen/matplotlib.axes.Axes.fill_between.html\n",
    "<br/>\n",
    "amnindersingh1414. (07.09.2022). How to update a plot on same figure during loop. https://www.geeksforgeeks.org/how-to-update-a-plot-on-same-figure-during-the-loop/\n",
    "<br/>\n",
    "Matplotlib. (2012-2022). Matplotlib.pyplot.hist. https://matplotlib.org/stable/api/_as_gen/matplotlib.pyplot.hist.html"
   ]
  }
 ],
 "metadata": {
  "kernelspec": {
   "display_name": "Python 3 (ipykernel)",
   "language": "python",
   "name": "python3"
  },
  "language_info": {
   "codemirror_mode": {
    "name": "ipython",
    "version": 3
   },
   "file_extension": ".py",
   "mimetype": "text/x-python",
   "name": "python",
   "nbconvert_exporter": "python",
   "pygments_lexer": "ipython3",
   "version": "3.9.13"
  }
 },
 "nbformat": 4,
 "nbformat_minor": 5
}
